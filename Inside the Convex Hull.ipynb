{
 "cells": [
  {
   "cell_type": "markdown",
   "metadata": {},
   "source": [
    "# Theoretischer Hintergrund\n",
    "\n",
    "Wir betrachten eine Teilmenge $Q(d)$ des $d$-dimensionalen Euklidischen Raums $E(d)$, bestehend aus den Punkten, deren Kartesische Koordinaten rationale Zahlen sind. \n",
    "\n",
    "Ein Punkt in $Q(d)$ kann als Liste von $d+1$ ganzen Zahlen $[x_0, x_1, . . . , x_d ]$ mit $x_d \\neq 0$, dargestellt werden (homogene Koordinaten). \n",
    "Diese Liste repräsentiert die $d$ rationalen Kartesischen Koordinaten $[x_0/x_d , x_1/x_d , . . . , x_{d−1}/xd]$\n",
    ".\n",
    "\n",
    "Ein Punkt in $Q(d)$ ist eine Liste von ganzen Zahlen:\n",
    "```Haskell\n",
    "type Point = [Integer]\n",
    "```\n",
    "\n",
    "## Simplex\n",
    "Ein $d$-Simplex ist die Verallgemeinerung eines Dreiecks in $d$-Dimensionen.\n",
    "![Simplex](img/simplex.PNG)\n",
    "Ein $d$-Simplex kann als Liste von $d+1$ Punkten in $Q(d)$ und einem Wert $+1$ oder $-1$, der die Orientierung des Simplex angibt, repräsentiert werden:\n",
    "```Haskell\n",
    "\n",
    "type Simplex = ([Point], Int)\n",
    "```\n",
    "\n",
    "## Konvexe Menge\n",
    "Jedes $d$-Simplex $smp$ bestimmt eine konvexe Menge $CS(smp)$ in $Q(d)$. \n",
    "\n",
    "Eine Teilmenge des euklidischen Raums (geometrische Figur) ist konvex, wenn für je zwei beliebige Punkte, die zur Menge gehören, auch stets deren Verbindungsstrecke ganz in der Menge liegt\n",
    "![konvexe Menge](img/cm1.PNG)\n",
    "\n",
    "Der Bereich enthält die Punkte innerhalb von $smp$ und auf dessen Grenze.\n",
    "\n",
    "Um zu bestimmen ob ein Punkt innerhalb oder auf $CS(smp)$ liegt, müssen die Facetten von $smp$ berechnet werden.\n",
    "\n",
    "## Facette\n",
    "Die Facette eines $d$-Simplex kann als Liste von $d$ Punkten und einer dazugehörigen Orientierung (abgeleitet von dem Simplex), dargestellt werden. \n",
    "Beispielsweise sind die Facetten einer Kante ihre zwei Endpunkte, die Facetten eines Dreiecks sind ihre drei Kanten.\n",
    "\n",
    "```Haskell\n",
    "\n",
    "type Facet = ([Point], Int).\n",
    "```\n",
    "\n",
    "### Beispiel\n",
    "Ein Dreieck $[a,b,c]$ mit positiver Orientierung im $Q(2)$ hat drei Facetten $([b, c], +1)$, $([a, c],−1)$, $([a, b], +1)$. \n",
    "Ein Punkt $p$ befindet sich innerhalb von $[a,b,c]$, wenn die drei Simplexe $ [p, b, c]$, $[p, a, c]$ und $[p, a, b]$ die Orientierungen $+1$, $−1$ und $+1$ haben. \n",
    "\n",
    "Implikation:\n",
    "- $p$ befindet sich links von der Kante $b$ nach $c$\n",
    "- $p$ befindet sich rechts von der Kante $a$ nach $c$\n",
    "- $p$ befindet sich links von der Kante $a$ nach $b$\n",
    "\n",
    "![Triangle](img/triangle1.PNG)\n",
    "\n",
    "## Konvexe Hülle\n",
    "Die konvexe Hülle $CH(vs)$ einer Punktmenge $vs$ in $Q(d)$ entspricht einem Bereich in $Q(d)$ und kann wie folgt definiert werden:\n",
    "- $CH(vs)$ ist die Vereinigung der Mengen $CS(smp)$ für alle $d$-Simplexe $smp$ bestimmt durch Punkte von $vs$\n",
    "\n",
    "In $Q(2)$ bestimmt sich die konvexe Hülle von $vs$ durch die Vereinigungsmenge der Bereiche, die durch alle Dreiecke deren Eckpunkte innerhalb von $vs$ liegen. \n",
    "\n",
    "Die Menge $CH(vs)$ lässt sich dementsprechend durch folgendes Prädikat charakterisieren:\n",
    "```Haskell\n",
    "\n",
    "insideCH :: [Point] -> Point -> Bool\n",
    "insideCH vs p = or [insideCS smp p | smp <- simplexes vs]\n",
    "```\n",
    "![Konvexe Hülle](img/ch.PNG)\n",
    "Das Bild zeigt die konvexe Hülle von Punkten in der Ebene. Sie besteht aus dem schwarz umrandeten Gebiet (inklusive Rand)."
   ]
  },
  {
   "cell_type": "markdown",
   "metadata": {},
   "source": [
    "## Hürden\n",
    "- `tuples` Funktion muss selbst implementiert werden\n",
    "- Bug in `op :: Facet -> [Facet] -> [Facet]`:\n",
    "    - Das Problem: `op smp [] = []`\n",
    "    - Lösung: `op smp [] = [smp]`\n",
    "- QuickCheck infinite Loop\n",
    "    - Das Problem: `points d (n + 1) = do {p <- point d; ps <- points d n; return (p : ps)}`\n",
    "    - Lösung: `points d n  = do { p <- point d; ps <- points d (n-1); return (p:ps) }` (statt vorne n + 1 nur das n übergeben und hinten 1 abziehen)\n",
    "- Bug in `partition` Funktion:\n",
    "     - Das Problem: `Just [smp] -> foldl update [smp] (vs \\\\ vertices smp)`\n",
    "     - Lösung: `Just smp -> foldl update [smp] (vs \\\\ vertices smp)`"
   ]
  },
  {
   "cell_type": "markdown",
   "metadata": {},
   "source": [
    "# Determinante"
   ]
  },
  {
   "cell_type": "code",
   "execution_count": 1,
   "metadata": {},
   "outputs": [],
   "source": [
    "minors :: [a] -> [[a]]\n",
    "minors [ ] = [ ]\n",
    "minors (x : xs) = xs : map (x :) (minors xs)"
   ]
  },
  {
   "cell_type": "code",
   "execution_count": 2,
   "metadata": {},
   "outputs": [
    {
     "data": {
      "text/plain": [
       "[\"bcd\",\"acd\",\"abd\",\"abc\"]"
      ]
     },
     "metadata": {},
     "output_type": "display_data"
    }
   ],
   "source": [
    "minors \"abcd\""
   ]
  },
  {
   "cell_type": "code",
   "execution_count": 3,
   "metadata": {},
   "outputs": [],
   "source": [
    "det :: [[Integer]] -> Integer\n",
    "det [[x ]] = x\n",
    "det xss = foldr1 (-) (zipWith (*) col1 (map det (minors cols)))\n",
    "          where col1 = map head xss\n",
    "                cols = map tail xss"
   ]
  },
  {
   "cell_type": "code",
   "execution_count": 4,
   "metadata": {},
   "outputs": [
    {
     "data": {
      "text/plain": [
       "-25"
      ]
     },
     "metadata": {},
     "output_type": "display_data"
    }
   ],
   "source": [
    "matrix = [[2,2,1],[9,2,5],[3,7,3]]\n",
    "det matrix"
   ]
  },
  {
   "cell_type": "code",
   "execution_count": 5,
   "metadata": {},
   "outputs": [
    {
     "data": {
      "text/plain": [
       "-8"
      ]
     },
     "metadata": {},
     "output_type": "display_data"
    }
   ],
   "source": [
    "matrix = [[2,2],[9,5]]\n",
    "det matrix"
   ]
  },
  {
   "cell_type": "code",
   "execution_count": null,
   "metadata": {},
   "outputs": [],
   "source": []
  },
  {
   "cell_type": "code",
   "execution_count": null,
   "metadata": {},
   "outputs": [],
   "source": []
  },
  {
   "cell_type": "code",
   "execution_count": null,
   "metadata": {},
   "outputs": [],
   "source": [
    "-- A more fancy Determinant calculation based on Integer Division\n",
    "det :: [[Integer]] -> Integer\n",
    "det [[x]] = x\n",
    "det xss =\n",
    "  case break ((/= 0) . head) xss of\n",
    "   (yss, [ ]) -> 0\n",
    "   (yss, zs : zss) -> let x = det(condense(zs : yss ++ zss))\n",
    "                          d = head zs ^ (length xss - 2)\n",
    "                          y = x `div` d\n",
    "                      in if even (length yss) then y else -y\n",
    "\n",
    "condense = map (map det . pair . uncurry zip) . pair\n",
    "           where pair (x : xs) = map ((, ) x ) xs\n",
    "                 det ((a, b), (c, d)) = a * d - b * c"
   ]
  },
  {
   "cell_type": "code",
   "execution_count": null,
   "metadata": {},
   "outputs": [],
   "source": [
    "matrix = [[2,2,1],[9,2,5],[3,7,3]]\n",
    "det matrix"
   ]
  },
  {
   "cell_type": "markdown",
   "metadata": {},
   "source": [
    "# Convex Hull"
   ]
  },
  {
   "cell_type": "code",
   "execution_count": 6,
   "metadata": {},
   "outputs": [],
   "source": [
    "import Data.List  "
   ]
  },
  {
   "cell_type": "code",
   "execution_count": 7,
   "metadata": {},
   "outputs": [],
   "source": [
    "-- Type synonym (basically just an alias)\n",
    "type Point = [Integer]\n",
    "type Facet = ([Point], Int)\n",
    "type Simplex = ([Point], Int)"
   ]
  },
  {
   "cell_type": "code",
   "execution_count": 8,
   "metadata": {},
   "outputs": [],
   "source": [
    "dimension :: Point -> Int\n",
    "dimension ps = length ps - 1\n",
    "\n",
    "orientation :: [Point] -> Int\n",
    "orientation = fromIntegral . signum . det"
   ]
  },
  {
   "cell_type": "code",
   "execution_count": 9,
   "metadata": {},
   "outputs": [],
   "source": [
    "facets :: Simplex -> [Facet]\n",
    "facets (us, b) = zip (minors us) (cycle [b, -b])\n",
    "\n",
    "minors :: [a] -> [[a]]\n",
    "minors [] = []\n",
    "minors (x : xs) = xs : map (x :) (minors xs)"
   ]
  },
  {
   "cell_type": "code",
   "execution_count": 10,
   "metadata": {},
   "outputs": [],
   "source": [
    "insideCS :: Simplex -> Point -> Bool\n",
    "-- The generator (us, b) <- facets smp feeds each Facet in turn to the left-hand expression\n",
    "insideCS smp p = and [0 <= b * orientation (p : us) | (us, b) <- facets smp]"
   ]
  },
  {
   "cell_type": "markdown",
   "metadata": {},
   "source": [
    "## Convex Hull"
   ]
  },
  {
   "cell_type": "code",
   "execution_count": 11,
   "metadata": {},
   "outputs": [],
   "source": [
    "-- The value of tuples n vs is a list of all n-tuples of vs; that is, all subsequences\n",
    "-- of vs of length n. The definition of tuples is left as an exercise.\n",
    "tuples' :: Int -> [a] -> [[a]]\n",
    "tuples' n vs = filter (\\x -> length x == n) (subsequences vs)"
   ]
  },
  {
   "cell_type": "code",
   "execution_count": 12,
   "metadata": {},
   "outputs": [
    {
     "data": {
      "text/plain": [
       "[[[1,2],[3,4]],[[1,2],[5,6]],[[3,4],[5,6]],[[1,2],[7,8]],[[3,4],[7,8]],[[5,6],[7,8]]]"
      ]
     },
     "metadata": {},
     "output_type": "display_data"
    }
   ],
   "source": [
    "tuples :: Int -> [a] -> [[a]]\n",
    "tuples n = filter ((==n) . length) . subsequences\n",
    "\n",
    "tuples 2 [[1,2], [3,4], [5,6], [7,8]]"
   ]
  },
  {
   "cell_type": "code",
   "execution_count": 13,
   "metadata": {},
   "outputs": [],
   "source": [
    "insideCH :: [Point] -> Point -> Bool\n",
    "insideCH vs p = or [insideCS smp p | smp <- simplexes vs]\n",
    "\n",
    "simplexes :: [Point] -> [Simplex]\n",
    "simplexes vs = [(us, b) | us <- tuples (d + 1) vs,\n",
    "                          let b = orientation us, b /= 0]\n",
    "               where d = dimension (head vs)"
   ]
  },
  {
   "cell_type": "code",
   "execution_count": null,
   "metadata": {},
   "outputs": [],
   "source": [
    "insideCH :: [Point] -> Point -> Bool\n",
    "insideCH vs p = if null smps\n",
    "                then False\n",
    "                else or [insideCS smp p | smp <- smps]\n",
    "                where smps = simplexes vs\n",
    "\n",
    "simplexes :: [Point] -> [Simplex]\n",
    "simplexes vs = [(us, b) | us <- tuples (d + 1) vs,\n",
    "                          let b = orientation us, b /= 0]\n",
    "               where d = dimension (head vs)"
   ]
  },
  {
   "cell_type": "code",
   "execution_count": 14,
   "metadata": {},
   "outputs": [],
   "source": [
    "vertices :: Simplex -> [Point]\n",
    "vertices = sort . fst"
   ]
  },
  {
   "cell_type": "markdown",
   "metadata": {},
   "source": [
    "## Find a Simplex"
   ]
  },
  {
   "cell_type": "code",
   "execution_count": 15,
   "metadata": {},
   "outputs": [],
   "source": [
    "-- The inefficient variant\n",
    "-- findSimplex vs = if null smps then Nothing else Just (head smps)\n",
    "--                  where smps = simplexes vs"
   ]
  },
  {
   "cell_type": "code",
   "execution_count": 15,
   "metadata": {},
   "outputs": [],
   "source": [
    "submatrices k vs = map (++[last vs]) (tuples k (init vs))\n",
    "degenerate k = all (==0) . map det . submatrices k . transpose"
   ]
  },
  {
   "cell_type": "code",
   "execution_count": 16,
   "metadata": {},
   "outputs": [],
   "source": [
    "-- The more efficient variant\n",
    "findSimplex :: [Point] -> Maybe Simplex\n",
    "findSimplex [] = Nothing\n",
    "findSimplex (v : vs) = search (length v - 1) 1 [v] vs\n",
    "\n",
    "search d k us vs\n",
    "  | k == d + 1 = Just (us, orientation us)\n",
    "  | null vs = Nothing\n",
    "  | degenerate k (v : us) = search d k us (tail vs)\n",
    "  | otherwise = search d (k + 1) (v : us) (tail vs)\n",
    "    where v = head vs\n"
   ]
  },
  {
   "cell_type": "markdown",
   "metadata": {},
   "source": [
    "## Update"
   ]
  },
  {
   "cell_type": "code",
   "execution_count": 17,
   "metadata": {},
   "outputs": [],
   "source": [
    "external :: [Simplex] -> [Facet]\n",
    "external = foldr op [] . sort . concatMap facets\n",
    "\n",
    "-- op smp [] = []\n",
    "-- op smp (smp' : smps) = if vertices smp == vertices smp' then smps\n",
    "--                        else smp : smp' : smps\n",
    "                       \n",
    "op :: Facet -> [Facet] -> [Facet]\n",
    "op smp []     = [smp]  -- bug fixed\n",
    "op smp (smp' : smps) = if vertices smp == vertices smp' then smps \n",
    "                       else smp : smp' : smps"
   ]
  },
  {
   "cell_type": "code",
   "execution_count": 18,
   "metadata": {},
   "outputs": [],
   "source": [
    "visible :: Point -> [Facet] -> [Facet]\n",
    "visible v fs = [(us, b) | (us, b) <- fs, b * orientation (v : us) < 0]"
   ]
  },
  {
   "cell_type": "code",
   "execution_count": 19,
   "metadata": {},
   "outputs": [],
   "source": [
    "newSimplex :: Point -> Facet -> Simplex\n",
    "newSimplex v (us, b) = (v : us, -b)"
   ]
  },
  {
   "cell_type": "code",
   "execution_count": 20,
   "metadata": {},
   "outputs": [],
   "source": [
    "update :: [Simplex] -> Point -> [Simplex]\n",
    "update smps v = smps ++ map (newSimplex v) (visible v (external smps))"
   ]
  },
  {
   "cell_type": "markdown",
   "metadata": {},
   "source": [
    "## Incremental Algorithm"
   ]
  },
  {
   "cell_type": "code",
   "execution_count": 21,
   "metadata": {},
   "outputs": [],
   "source": [
    "insideCH' :: [Point] -> Point -> Bool\n",
    "insideCH' vs p = or [insideCS smp p | smp <- partition vs] \n",
    "\n",
    "partition :: [Point] -> [Simplex]\n",
    "partition vs\n",
    "    = case findSimplex vs of\n",
    "        Nothing -> []\n",
    "        Just smp -> foldl update [smp] (vs \\\\ vertices smp)\n",
    "        -- Just [smp] -> foldl update [smp] (vs \\\\ vertices smp)"
   ]
  },
  {
   "cell_type": "markdown",
   "metadata": {},
   "source": [
    "## Test"
   ]
  },
  {
   "cell_type": "code",
   "execution_count": 22,
   "metadata": {},
   "outputs": [],
   "source": [
    "pts = [[2, 4, 1],\n",
    "       [4, 7, 1],\n",
    "       [2, 2, 1],\n",
    "       [9, 6, 1],\n",
    "       [1, 9, 1],\n",
    "       [5, 7, 1],\n",
    "       [0, 9, 1],\n",
    "       [5, 1, 1],\n",
    "       [0, 2, 1],\n",
    "       [8, 4, 1],\n",
    "       [6, 6, 1],\n",
    "       [3, 6, 1],\n",
    "       [1, 9, 1],\n",
    "       [0, 5, 1],\n",
    "       [0, 3, 1],\n",
    "       [9, 4, 1],\n",
    "       [9, 5, 1],\n",
    "       [6, 0, 1],\n",
    "       [6, 7, 1],\n",
    "       [3, 6, 1],\n",
    "       [6, 8, 1],\n",
    "       [1, 0, 1],\n",
    "       [7, 8, 1],\n",
    "       [9, 6, 1],\n",
    "       [6, 9, 1],\n",
    "       [2, 9, 1],\n",
    "       [8, 8, 1],\n",
    "       [6, 7, 1],\n",
    "       [9, 8, 1],\n",
    "       [0, 4, 1]]"
   ]
  },
  {
   "cell_type": "code",
   "execution_count": 26,
   "metadata": {},
   "outputs": [
    {
     "data": {
      "text/html": [
       "<style>/* Styles used for the Hoogle display in the pager */\n",
       ".hoogle-doc {\n",
       "display: block;\n",
       "padding-bottom: 1.3em;\n",
       "padding-left: 0.4em;\n",
       "}\n",
       ".hoogle-code {\n",
       "display: block;\n",
       "font-family: monospace;\n",
       "white-space: pre;\n",
       "}\n",
       ".hoogle-text {\n",
       "display: block;\n",
       "}\n",
       ".hoogle-name {\n",
       "color: green;\n",
       "font-weight: bold;\n",
       "}\n",
       ".hoogle-head {\n",
       "font-weight: bold;\n",
       "}\n",
       ".hoogle-sub {\n",
       "display: block;\n",
       "margin-left: 0.4em;\n",
       "}\n",
       ".hoogle-package {\n",
       "font-weight: bold;\n",
       "font-style: italic;\n",
       "}\n",
       ".hoogle-module {\n",
       "font-weight: bold;\n",
       "}\n",
       ".hoogle-class {\n",
       "font-weight: bold;\n",
       "}\n",
       ".get-type {\n",
       "color: green;\n",
       "font-weight: bold;\n",
       "font-family: monospace;\n",
       "display: block;\n",
       "white-space: pre-wrap;\n",
       "}\n",
       ".show-type {\n",
       "color: green;\n",
       "font-weight: bold;\n",
       "font-family: monospace;\n",
       "margin-left: 1em;\n",
       "}\n",
       ".mono {\n",
       "font-family: monospace;\n",
       "display: block;\n",
       "}\n",
       ".err-msg {\n",
       "color: red;\n",
       "font-style: italic;\n",
       "font-family: monospace;\n",
       "white-space: pre;\n",
       "display: block;\n",
       "}\n",
       "#unshowable {\n",
       "color: red;\n",
       "font-weight: bold;\n",
       "}\n",
       ".err-msg.in.collapse {\n",
       "padding-top: 0.7em;\n",
       "}\n",
       ".highlight-code {\n",
       "white-space: pre;\n",
       "font-family: monospace;\n",
       "}\n",
       ".suggestion-warning { \n",
       "font-weight: bold;\n",
       "color: rgb(200, 130, 0);\n",
       "}\n",
       ".suggestion-error { \n",
       "font-weight: bold;\n",
       "color: red;\n",
       "}\n",
       ".suggestion-name {\n",
       "font-weight: bold;\n",
       "}\n",
       "</style><div class=\"suggestion-name\" style=\"clear:both;\">Avoid lambda</div><div class=\"suggestion-row\" style=\"float: left;\"><div class=\"suggestion-warning\">Found:</div><div class=\"highlight-code\" id=\"haskell\">\\ x -> insideCH' pts x</div></div><div class=\"suggestion-row\" style=\"float: left;\"><div class=\"suggestion-warning\">Why Not:</div><div class=\"highlight-code\" id=\"haskell\">insideCH' pts</div></div>"
      ],
      "text/plain": [
       "Line 3: Avoid lambda\n",
       "Found:\n",
       "\\ x -> insideCH' pts x\n",
       "Why not:\n",
       "insideCH' pts"
      ]
     },
     "metadata": {},
     "output_type": "display_data"
    },
    {
     "data": {
      "text/plain": [
       "[True,False,True,False]"
      ]
     },
     "metadata": {},
     "output_type": "display_data"
    }
   ],
   "source": [
    "testPts = [[5, 5, 1], [0, 1, 1], [1, 4, 1], [50, 50, 1]]\n",
    "\n",
    "r = map(\\x -> insideCH' pts x) testPts\n",
    "r"
   ]
  },
  {
   "cell_type": "code",
   "execution_count": null,
   "metadata": {},
   "outputs": [
    {
     "data": {
      "text/html": [
       "<style>/* Styles used for the Hoogle display in the pager */\n",
       ".hoogle-doc {\n",
       "display: block;\n",
       "padding-bottom: 1.3em;\n",
       "padding-left: 0.4em;\n",
       "}\n",
       ".hoogle-code {\n",
       "display: block;\n",
       "font-family: monospace;\n",
       "white-space: pre;\n",
       "}\n",
       ".hoogle-text {\n",
       "display: block;\n",
       "}\n",
       ".hoogle-name {\n",
       "color: green;\n",
       "font-weight: bold;\n",
       "}\n",
       ".hoogle-head {\n",
       "font-weight: bold;\n",
       "}\n",
       ".hoogle-sub {\n",
       "display: block;\n",
       "margin-left: 0.4em;\n",
       "}\n",
       ".hoogle-package {\n",
       "font-weight: bold;\n",
       "font-style: italic;\n",
       "}\n",
       ".hoogle-module {\n",
       "font-weight: bold;\n",
       "}\n",
       ".hoogle-class {\n",
       "font-weight: bold;\n",
       "}\n",
       ".get-type {\n",
       "color: green;\n",
       "font-weight: bold;\n",
       "font-family: monospace;\n",
       "display: block;\n",
       "white-space: pre-wrap;\n",
       "}\n",
       ".show-type {\n",
       "color: green;\n",
       "font-weight: bold;\n",
       "font-family: monospace;\n",
       "margin-left: 1em;\n",
       "}\n",
       ".mono {\n",
       "font-family: monospace;\n",
       "display: block;\n",
       "}\n",
       ".err-msg {\n",
       "color: red;\n",
       "font-style: italic;\n",
       "font-family: monospace;\n",
       "white-space: pre;\n",
       "display: block;\n",
       "}\n",
       "#unshowable {\n",
       "color: red;\n",
       "font-weight: bold;\n",
       "}\n",
       ".err-msg.in.collapse {\n",
       "padding-top: 0.7em;\n",
       "}\n",
       ".highlight-code {\n",
       "white-space: pre;\n",
       "font-family: monospace;\n",
       "}\n",
       ".suggestion-warning { \n",
       "font-weight: bold;\n",
       "color: rgb(200, 130, 0);\n",
       "}\n",
       ".suggestion-error { \n",
       "font-weight: bold;\n",
       "color: red;\n",
       "}\n",
       ".suggestion-name {\n",
       "font-weight: bold;\n",
       "}\n",
       "</style><div class=\"suggestion-name\" style=\"clear:both;\">Avoid lambda</div><div class=\"suggestion-row\" style=\"float: left;\"><div class=\"suggestion-warning\">Found:</div><div class=\"highlight-code\" id=\"haskell\">\\ x -> insideCH pts x</div></div><div class=\"suggestion-row\" style=\"float: left;\"><div class=\"suggestion-warning\">Why Not:</div><div class=\"highlight-code\" id=\"haskell\">insideCH pts</div></div>"
      ],
      "text/plain": [
       "Line 1: Avoid lambda\n",
       "Found:\n",
       "\\ x -> insideCH pts x\n",
       "Why not:\n",
       "insideCH pts"
      ]
     },
     "metadata": {},
     "output_type": "display_data"
    }
   ],
   "source": [
    "r = map(\\x -> insideCH pts x) testPts\n",
    "r"
   ]
  },
  {
   "cell_type": "code",
   "execution_count": null,
   "metadata": {},
   "outputs": [],
   "source": [
    "length r"
   ]
  },
  {
   "cell_type": "code",
   "execution_count": null,
   "metadata": {},
   "outputs": [],
   "source": [
    "filter (\\x -> x == True) r"
   ]
  },
  {
   "cell_type": "code",
   "execution_count": null,
   "metadata": {},
   "outputs": [],
   "source": [
    "filtermask f [] [] = []\n",
    "filtermask f (fm:rm) (fd:rd)\n",
    "  |f fm fd = fd:filtermask f rm rd\n",
    "  |otherwise = filtermask f rm rd"
   ]
  },
  {
   "cell_type": "code",
   "execution_count": null,
   "metadata": {},
   "outputs": [],
   "source": [
    "filtermask (\\m d -> m == True) r pts"
   ]
  },
  {
   "cell_type": "code",
   "execution_count": null,
   "metadata": {},
   "outputs": [],
   "source": [
    "testPts = [[10, 10], [1,1], [0,4], [50,50], [3,6], [-1, 5]]\n",
    "r = map(\\x -> insideCH' pts x) testPts\n",
    "r"
   ]
  },
  {
   "cell_type": "code",
   "execution_count": null,
   "metadata": {},
   "outputs": [],
   "source": [
    "-- Dont do this --> infinite loop\n",
    "-- insideCH pts [-20, -20]"
   ]
  },
  {
   "cell_type": "code",
   "execution_count": null,
   "metadata": {},
   "outputs": [],
   "source": []
  },
  {
   "cell_type": "code",
   "execution_count": 43,
   "metadata": {},
   "outputs": [
    {
     "data": {
      "text/plain": [
       "False"
      ]
     },
     "metadata": {},
     "output_type": "display_data"
    },
    {
     "data": {
      "text/plain": [
       "False"
      ]
     },
     "metadata": {},
     "output_type": "display_data"
    }
   ],
   "source": [
    "-- Collinear Points\n",
    "collinearPts = [[0,0,1],[0,0,1],[0,0,1],[-1,-1,1]]\n",
    "insideCH collinearPts [1,0,1]\n",
    "insideCH' collinearPts [1,0,1]"
   ]
  },
  {
   "cell_type": "markdown",
   "metadata": {},
   "source": [
    "## An Improvement"
   ]
  },
  {
   "cell_type": "code",
   "execution_count": 25,
   "metadata": {},
   "outputs": [],
   "source": [
    "-- insideCH'' vs p = if null fs\n",
    "--     then False\n",
    "--    else and [0 <= b*orientation (p:us) | (us, b) <- fs]\n",
    "--    where fs = faces vs\n",
    " \n",
    " \n",
    "-- Bug fix: Here we have to call the faces function on vs\n",
    "insideCH'' vs p = not (null fs) && and [0 <= b * orientation (p : us) | (us, b) <- fs]\n",
    "                  where fs = faces vs\n",
    " \n",
    "-- Bug fix: Here we have to replace Just [smp] -> foldl update' (facets smp) (vs \\\\ vertices vs) by the below expression\n",
    "faces :: [Point] -> [Facet]\n",
    "faces vs = case findSimplex vs of\n",
    "           Nothing -> []\n",
    "           Just smp  -> foldl update' (facets smp) (vs \\\\ vertices smp)\n",
    " \n",
    "update' :: [Facet] -> Point -> [Facet]\n",
    "update' fs v = (fs \\\\ fs') ++ map (newFacet v) (external fs')\n",
    "               where fs' = visible v fs\n",
    " \n",
    "newFacet v (us, b) = (v:us, b)"
   ]
  },
  {
   "cell_type": "code",
   "execution_count": 26,
   "metadata": {},
   "outputs": [
    {
     "ename": "",
     "evalue": "",
     "output_type": "error",
     "traceback": [
      "Parse error (line 1, column 26): parse error on input ‘=’\nPerhaps you need a 'let' in a 'do' block?\ne.g. 'let x = 5' instead of 'x = 5'"
     ]
    }
   ],
   "source": [
    "-- external (update smps v) = update' (external smps) v"
   ]
  },
  {
   "cell_type": "markdown",
   "metadata": {},
   "source": [
    "## QuickCheck"
   ]
  },
  {
   "cell_type": "code",
   "execution_count": 27,
   "metadata": {},
   "outputs": [],
   "source": [
    "import Test.QuickCheck"
   ]
  },
  {
   "cell_type": "code",
   "execution_count": 28,
   "metadata": {},
   "outputs": [
    {
     "data": {
      "text/plain": [
       "+++ OK, passed 100 tests."
      ]
     },
     "metadata": {},
     "output_type": "display_data"
    }
   ],
   "source": [
    "-- QuickCheck - working version\n",
    "point :: Int -> Gen [Integer]\n",
    "point d = do { xs <- vector d; return (xs ++ [1]) }\n",
    " \n",
    "points :: Int -> Int -> Gen [[Integer]]\n",
    "points d 0  = return []\n",
    "points d n  = do { p <- point d; ps <- points d (n-1); return (p:ps) }\n",
    " \n",
    "prop_Hull :: Int -> Int -> Property\n",
    "prop_Hull d n =\n",
    "    forAll (points d n) $ \\vs ->\n",
    "    forAll (point d) $ \\v ->\n",
    "    insideCH vs v == insideCH' vs v && insideCH vs v == insideCH'' vs v\n",
    " \n",
    "qc = quickCheck (prop_Hull 2 4)\n",
    "qc"
   ]
  },
  {
   "cell_type": "code",
   "execution_count": 29,
   "metadata": {
    "scrolled": true
   },
   "outputs": [
    {
     "data": {
      "text/plain": [
       "Passed:\n",
       "[[0,0,1],[0,0,1],[0,0,1],[0,0,1]]\n",
       "[0,0,1]\n",
       "\n",
       "Passed:\n",
       "[[1,0,1],[-1,-1,1],[1,1,1],[0,-1,1]]\n",
       "[1,1,1]\n",
       "\n",
       "Passed:\n",
       "[[0,1,1],[0,1,1],[2,-1,1],[1,2,1]]\n",
       "[1,2,1]\n",
       "\n",
       "Passed:\n",
       "[[-3,2,1],[2,3,1],[0,2,1],[-1,2,1]]\n",
       "[-2,2,1]\n",
       "\n",
       "Passed:\n",
       "[[3,1,1],[-2,-3,1],[2,0,1],[-1,4,1]]\n",
       "[0,2,1]\n",
       "\n",
       "Passed:\n",
       "[[-5,-1,1],[0,4,1],[-5,1,1],[2,-3,1]]\n",
       "[-3,2,1]\n",
       "\n",
       "Passed:\n",
       "[[6,-1,1],[-1,1,1],[-3,-5,1],[-6,0,1]]\n",
       "[3,6,1]\n",
       "\n",
       "Passed:\n",
       "[[0,-6,1],[-4,-7,1],[3,-2,1],[-1,-3,1]]\n",
       "[0,1,1]\n",
       "\n",
       "Passed:\n",
       "[[7,4,1],[7,2,1],[7,-8,1],[-4,-3,1]]\n",
       "[7,-1,1]\n",
       "\n",
       "Passed:\n",
       "[[-5,-7,1],[6,-3,1],[-7,4,1],[7,6,1]]\n",
       "[0,9,1]\n",
       "\n",
       "Passed:\n",
       "[[-5,3,1],[-1,-8,1],[6,7,1],[10,-6,1]]\n",
       "[-10,4,1]\n",
       "\n",
       "Passed:\n",
       "[[-11,9,1],[6,11,1],[11,-2,1],[-10,5,1]]\n",
       "[3,-9,1]\n",
       "\n",
       "Passed:\n",
       "[[-3,6,1],[4,-12,1],[-4,5,1],[0,-9,1]]\n",
       "[9,-2,1]\n",
       "\n",
       "Passed:\n",
       "[[0,-4,1],[4,1,1],[5,-8,1],[6,-12,1]]\n",
       "[12,-8,1]\n",
       "\n",
       "Passed:\n",
       "[[1,2,1],[-10,9,1],[-1,4,1],[6,-3,1]]\n",
       "[-7,-11,1]\n",
       "\n",
       "Passed:\n",
       "[[8,3,1],[3,-7,1],[2,-12,1],[-5,-7,1]]\n",
       "[13,3,1]\n",
       "\n",
       "Passed:\n",
       "[[-8,16,1],[-7,-11,1],[-6,14,1],[-10,-8,1]]\n",
       "[-12,-12,1]\n",
       "\n",
       "Passed:\n",
       "[[12,-3,1],[7,-7,1],[8,4,1],[-17,15,1]]\n",
       "[10,-4,1]\n",
       "\n",
       "Passed:\n",
       "[[8,-10,1],[16,4,1],[-8,-10,1],[9,12,1]]\n",
       "[15,6,1]\n",
       "\n",
       "Passed:\n",
       "[[-11,12,1],[-10,-5,1],[13,6,1],[10,-10,1]]\n",
       "[6,0,1]\n",
       "\n",
       "Passed:\n",
       "[[-13,16,1],[-8,-18,1],[3,3,1],[13,-14,1]]\n",
       "[5,5,1]\n",
       "\n",
       "Passed:\n",
       "[[15,12,1],[5,16,1],[8,15,1],[1,6,1]]\n",
       "[6,-8,1]\n",
       "\n",
       "Passed:\n",
       "[[-10,12,1],[13,-13,1],[-8,-11,1],[17,-11,1]]\n",
       "[5,12,1]\n",
       "\n",
       "Passed:\n",
       "[[14,-9,1],[12,10,1],[-10,7,1],[2,6,1]]\n",
       "[18,-22,1]\n",
       "\n",
       "Passed:\n",
       "[[-24,21,1],[5,0,1],[-21,24,1],[-10,-14,1]]\n",
       "[4,17,1]\n",
       "\n",
       "Passed:\n",
       "[[-25,13,1],[24,-1,1],[-21,-8,1],[13,7,1]]\n",
       "[11,0,1]\n",
       "\n",
       "Passed:\n",
       "[[-8,26,1],[15,-13,1],[-2,20,1],[-17,0,1]]\n",
       "[25,12,1]\n",
       "\n",
       "Passed:\n",
       "[[-2,-10,1],[-11,-7,1],[-23,9,1],[-12,-27,1]]\n",
       "[20,-25,1]\n",
       "\n",
       "Passed:\n",
       "[[14,19,1],[12,17,1],[7,21,1],[-18,-5,1]]\n",
       "[-18,-24,1]\n",
       "\n",
       "Passed:\n",
       "[[10,-2,1],[24,-16,1],[-24,-1,1],[28,29,1]]\n",
       "[8,-29,1]\n",
       "\n",
       "Passed:\n",
       "[[12,-21,1],[11,-3,1],[14,-6,1],[-5,-26,1]]\n",
       "[-19,7,1]\n",
       "\n",
       "Passed:\n",
       "[[-17,4,1],[-16,17,1],[18,-13,1],[-12,30,1]]\n",
       "[-14,7,1]\n",
       "\n",
       "Passed:\n",
       "[[15,14,1],[26,-14,1],[-29,24,1],[-16,-25,1]]\n",
       "[10,-2,1]\n",
       "\n",
       "Passed:\n",
       "[[5,-23,1],[32,9,1],[-8,-33,1],[-31,-19,1]]\n",
       "[-26,14,1]\n",
       "\n",
       "Passed:\n",
       "[[17,8,1],[0,-16,1],[0,-16,1],[-2,-3,1]]\n",
       "[-20,11,1]\n",
       "\n",
       "Passed:\n",
       "[[20,31,1],[-8,5,1],[-34,-2,1],[-11,34,1]]\n",
       "[-13,34,1]\n",
       "\n",
       "Passed:\n",
       "[[-27,-11,1],[-29,9,1],[-1,-27,1],[-18,2,1]]\n",
       "[16,28,1]\n",
       "\n",
       "Passed:\n",
       "[[-16,18,1],[0,-20,1],[-11,-2,1],[29,23,1]]\n",
       "[21,37,1]\n",
       "\n",
       "Passed:\n",
       "[[26,-14,1],[-20,-20,1],[-35,9,1],[-9,3,1]]\n",
       "[-14,-35,1]\n",
       "\n",
       "Passed:\n",
       "[[-21,-6,1],[19,-19,1],[-24,28,1],[38,0,1]]\n",
       "[23,7,1]\n",
       "\n",
       "Passed:\n",
       "[[-5,26,1],[-9,-31,1],[-3,-7,1],[-8,18,1]]\n",
       "[34,-14,1]\n",
       "\n",
       "Passed:\n",
       "[[14,-1,1],[17,-11,1],[16,-2,1],[-25,20,1]]\n",
       "[7,27,1]\n",
       "\n",
       "Passed:\n",
       "[[11,-13,1],[-25,31,1],[-25,-35,1],[13,-36,1]]\n",
       "[-28,27,1]\n",
       "\n",
       "Passed:\n",
       "[[10,-31,1],[-9,42,1],[5,-8,1],[26,-35,1]]\n",
       "[-31,-27,1]\n",
       "\n",
       "Passed:\n",
       "[[-27,36,1],[-26,-39,1],[12,-25,1],[-14,6,1]]\n",
       "[43,-2,1]\n",
       "\n",
       "Passed:\n",
       "[[14,-23,1],[-26,26,1],[-44,-27,1],[3,-23,1]]\n",
       "[31,25,1]\n",
       "\n",
       "Passed:\n",
       "[[-41,-34,1],[16,-23,1],[-27,-32,1],[6,15,1]]\n",
       "[3,18,1]\n",
       "\n",
       "Passed:\n",
       "[[-31,-3,1],[-33,32,1],[-21,-8,1],[20,-35,1]]\n",
       "[45,-33,1]\n",
       "\n",
       "Passed:\n",
       "[[16,3,1],[41,-19,1],[-19,-7,1],[31,-7,1]]\n",
       "[-3,-34,1]\n",
       "\n",
       "Passed:\n",
       "[[23,-3,1],[39,48,1],[-9,-42,1],[-3,-31,1]]\n",
       "[-35,-47,1]\n",
       "\n",
       "Passed:\n",
       "[[-14,-46,1],[30,-19,1],[-45,45,1],[24,-6,1]]\n",
       "[30,-24,1]\n",
       "\n",
       "Passed:\n",
       "[[50,17,1],[-32,-40,1],[-34,1,1],[-23,-47,1]]\n",
       "[31,-45,1]\n",
       "\n",
       "Passed:\n",
       "[[33,38,1],[0,24,1],[-51,32,1],[3,42,1]]\n",
       "[2,20,1]\n",
       "\n",
       "Passed:\n",
       "[[-30,6,1],[42,-47,1],[-21,14,1],[47,9,1]]\n",
       "[-52,30,1]\n",
       "\n",
       "Passed:\n",
       "[[17,48,1],[-10,-5,1],[16,1,1],[-13,-40,1]]\n",
       "[38,8,1]\n",
       "\n",
       "Passed:\n",
       "[[-53,-38,1],[51,24,1],[-12,51,1],[5,29,1]]\n",
       "[-28,43,1]\n",
       "\n",
       "Passed:\n",
       "[[-38,-17,1],[-23,-32,1],[-1,-12,1],[-38,-18,1]]\n",
       "[44,8,1]\n",
       "\n",
       "Passed:\n",
       "[[6,-57,1],[37,23,1],[18,9,1],[-23,-40,1]]\n",
       "[-2,8,1]\n",
       "\n",
       "Passed:\n",
       "[[18,31,1],[45,-52,1],[40,-23,1],[-14,-54,1]]\n",
       "[-56,-14,1]\n",
       "\n",
       "Passed:\n",
       "[[-37,35,1],[-28,41,1],[-6,5,1],[30,6,1]]\n",
       "[47,22,1]\n",
       "\n",
       "Passed:\n",
       "[[-54,-6,1],[-53,5,1],[-31,-15,1],[-11,25,1]]\n",
       "[-11,-53,1]\n",
       "\n",
       "Passed:\n",
       "[[11,34,1],[10,-25,1],[4,-9,1],[44,-23,1]]\n",
       "[51,-57,1]\n",
       "\n",
       "Passed:\n",
       "[[30,57,1],[35,-8,1],[-16,-47,1],[51,41,1]]\n",
       "[-28,-3,1]\n",
       "\n",
       "Passed:\n",
       "[[-3,-7,1],[15,-60,1],[-32,-55,1],[-10,21,1]]\n",
       "[-38,1,1]\n",
       "\n",
       "Passed:\n",
       "[[-23,50,1],[-7,62,1],[-56,-43,1],[-16,46,1]]\n",
       "[54,-60,1]\n",
       "\n",
       "Passed:\n",
       "[[44,17,1],[-2,-6,1],[-2,-14,1],[-6,-54,1]]\n",
       "[-48,48,1]\n",
       "\n",
       "Passed:\n",
       "[[57,8,1],[26,-59,1],[-18,-58,1],[-25,33,1]]\n",
       "[-64,-33,1]\n",
       "\n",
       "Passed:\n",
       "[[51,1,1],[35,-20,1],[60,-58,1],[65,45,1]]\n",
       "[-63,1,1]\n",
       "\n",
       "Passed:\n",
       "[[64,-55,1],[68,-67,1],[58,-56,1],[3,-25,1]]\n",
       "[55,-66,1]\n",
       "\n",
       "Passed:\n",
       "[[41,50,1],[45,-61,1],[61,-29,1],[-7,66,1]]\n",
       "[-35,38,1]\n",
       "\n",
       "Passed:\n",
       "[[26,16,1],[-12,-43,1],[-67,-26,1],[-3,-18,1]]\n",
       "[-25,40,1]\n",
       "\n",
       "Passed:\n",
       "[[-25,48,1],[-22,14,1],[-13,66,1],[-40,27,1]]\n",
       "[19,50,1]\n",
       "\n",
       "Passed:\n",
       "[[-58,-39,1],[6,-61,1],[-60,-30,1],[-17,25,1]]\n",
       "[31,-47,1]\n",
       "\n",
       "Passed:\n",
       "[[21,-52,1],[-70,10,1],[2,18,1],[-69,51,1]]\n",
       "[-46,18,1]\n",
       "\n",
       "Passed:\n",
       "[[-61,-54,1],[58,-45,1],[-63,-21,1],[-20,-12,1]]\n",
       "[-3,56,1]\n",
       "\n",
       "Passed:\n",
       "[[-52,66,1],[42,67,1],[17,-11,1],[28,-49,1]]\n",
       "[26,-22,1]\n",
       "\n",
       "Passed:\n",
       "[[29,68,1],[-68,-54,1],[-57,-3,1],[-22,-12,1]]\n",
       "[-43,-51,1]\n",
       "\n",
       "Passed:\n",
       "[[-61,40,1],[-36,12,1],[73,-49,1],[12,2,1]]\n",
       "[-61,0,1]\n",
       "\n",
       "Passed:\n",
       "[[-69,16,1],[18,-75,1],[-62,38,1],[43,-25,1]]\n",
       "[2,-63,1]\n",
       "\n",
       "Passed:\n",
       "[[31,12,1],[41,1,1],[54,56,1],[-48,57,1]]\n",
       "[38,-71,1]\n",
       "\n",
       "Passed:\n",
       "[[-43,24,1],[-57,40,1],[-6,63,1],[-79,-47,1]]\n",
       "[41,-14,1]\n",
       "\n",
       "Passed:\n",
       "[[-16,73,1],[45,4,1],[67,54,1],[-79,-5,1]]\n",
       "[-69,-28,1]\n",
       "\n",
       "Passed:\n",
       "[[-52,-72,1],[66,-37,1],[7,-78,1],[-69,-27,1]]\n",
       "[-28,8,1]\n",
       "\n",
       "Passed:\n",
       "[[40,-82,1],[39,58,1],[-25,-82,1],[0,-62,1]]\n",
       "[43,-44,1]\n",
       "\n",
       "Passed:\n",
       "[[1,-7,1],[62,-76,1],[72,43,1],[72,-4,1]]\n",
       "[73,-43,1]\n",
       "\n",
       "Passed:\n",
       "[[36,65,1],[14,10,1],[50,38,1],[-31,10,1]]\n",
       "[84,8,1]\n",
       "\n",
       "Passed:\n",
       "[[-84,-42,1],[-48,-20,1],[48,-61,1],[68,84,1]]\n",
       "[-56,-61,1]\n",
       "\n",
       "Passed:\n",
       "[[42,24,1],[-24,-44,1],[35,-58,1],[-13,81,1]]\n",
       "[28,33,1]\n",
       "\n",
       "Passed:\n",
       "[[-14,17,1],[-16,-45,1],[-59,-88,1],[-47,55,1]]\n",
       "[20,-65,1]\n",
       "\n",
       "Passed:\n",
       "[[89,63,1],[-59,-46,1],[9,-46,1],[-34,-54,1]]\n",
       "[-27,69,1]\n",
       "\n",
       "Passed:\n",
       "[[69,46,1],[52,0,1],[85,36,1],[50,15,1]]\n",
       "[-68,90,1]\n",
       "\n",
       "Passed:\n",
       "[[43,21,1],[-19,-62,1],[62,53,1],[18,55,1]]\n",
       "[83,5,1]\n",
       "\n",
       "Passed:\n",
       "[[7,-84,1],[18,20,1],[49,2,1],[-3,-67,1]]\n",
       "[-75,-68,1]\n",
       "\n",
       "Passed:\n",
       "[[-49,49,1],[63,-36,1],[-85,-91,1],[67,-79,1]]\n",
       "[-63,-42,1]\n",
       "\n",
       "Passed:\n",
       "[[94,-56,1],[51,-57,1],[-71,47,1],[-64,79,1]]\n",
       "[44,-86,1]\n",
       "\n",
       "Passed:\n",
       "[[-53,91,1],[-86,57,1],[-31,-33,1],[-27,-78,1]]\n",
       "[-63,31,1]\n",
       "\n",
       "Passed:\n",
       "[[40,-3,1],[22,48,1],[92,-11,1],[-52,-45,1]]\n",
       "[-22,-53,1]\n",
       "\n",
       "Passed:\n",
       "[[-52,-10,1],[-46,-78,1],[1,-91,1],[18,-27,1]]\n",
       "[-13,-22,1]\n",
       "\n",
       "Passed:\n",
       "[[-55,-70,1],[28,-92,1],[-82,-89,1],[-2,81,1]]\n",
       "[36,-30,1]\n",
       "\n",
       "Passed:\n",
       "[[87,-85,1],[-76,-9,1],[17,68,1],[2,-54,1]]\n",
       "[50,85,1]\n",
       "\n",
       "+++ OK, passed 100 tests."
      ]
     },
     "metadata": {},
     "output_type": "display_data"
    }
   ],
   "source": [
    "verboseCheck (prop_Hull 2 4)"
   ]
  },
  {
   "cell_type": "markdown",
   "metadata": {},
   "source": [
    "### Broken Version"
   ]
  },
  {
   "cell_type": "code",
   "execution_count": null,
   "metadata": {},
   "outputs": [],
   "source": [
    "point :: Int -> Gen [Integer]\n",
    "point d = do {xs <- vector d; return (map abs xs ++ [1])}\n",
    "\n",
    "points :: Int -> Int -> Gen [[Integer]]\n",
    "points d 0 = return []\n",
    "-- This is supposed to be n+1 but it won't compile :-(\n",
    "points d n = do\n",
    " p <- point d\n",
    " ps <- points d n\n",
    " return (p : ps) \n"
   ]
  },
  {
   "cell_type": "code",
   "execution_count": null,
   "metadata": {},
   "outputs": [],
   "source": [
    "prop_Hull :: Int -> Int -> Property\n",
    "prop_Hull d n = forAll (points d (n+1)) $ \\vs -> \n",
    "                forAll (point d) $ \\v -> \n",
    "                insideCH vs v == insideCH' vs v"
   ]
  },
  {
   "cell_type": "code",
   "execution_count": null,
   "metadata": {},
   "outputs": [],
   "source": [
    "quickCheckWith stdArgs { maxSuccess = 1 } (prop_Hull 2 3)\n",
    "-- quickCheck(prop_Hull 2 5)"
   ]
  },
  {
   "cell_type": "code",
   "execution_count": null,
   "metadata": {},
   "outputs": [],
   "source": []
  },
  {
   "cell_type": "code",
   "execution_count": null,
   "metadata": {},
   "outputs": [],
   "source": []
  }
 ],
 "metadata": {
  "kernelspec": {
   "display_name": "Haskell",
   "language": "haskell",
   "name": "haskell"
  },
  "language_info": {
   "codemirror_mode": "ihaskell",
   "file_extension": ".hs",
   "name": "haskell",
   "pygments_lexer": "Haskell",
   "version": "8.6.5"
  }
 },
 "nbformat": 4,
 "nbformat_minor": 4
}
