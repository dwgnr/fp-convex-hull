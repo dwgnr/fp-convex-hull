{
 "cells": [
  {
   "cell_type": "markdown",
   "metadata": {},
   "source": [
    "# Theoretischer Hintergrund\n",
    "\n",
    "Wir betrachten eine Teilmenge $Q(d)$ des $d$-dimensionalen Euklidischen Raums $E(d)$, bestehend aus den Punkten, deren Kartesische Koordinaten rationale Zahlen sind. \n",
    "\n",
    "Ein Punkt in $Q(d)$ kann als Liste von $d+1$ ganzen Zahlen $[x_0, x_1, . . . , x_d ]$ mit $x_d \\neq 0$, dargestellt werden (homogene Koordinaten). \n",
    "Diese Liste repräsentiert die $d$ rationalen Kartesischen Koordinaten $[x_0/x_d , x_1/x_d , . . . , x_{d−1}/xd]$\n",
    ".\n",
    "\n",
    "Ein Punkt in $Q(d)$ ist eine Liste von ganzen Zahlen:\n",
    "```Haskell\n",
    "type Point = [Integer]\n",
    "```\n",
    "\n",
    "## Simplex\n",
    "Ein $d$-Simplex ist die Verallgemeinerung eines Dreiecks in $d$-Dimensionen.\n",
    "![Simplex](img/simplex.PNG)\n",
    "Ein $d$-Simplex kann als Liste von $d+1$ Punkten in $Q(d)$ und einem Wert $+1$ oder $-1$, der die Orientierung des Simplex angibt, repräsentiert werden:\n",
    "```Haskell\n",
    "\n",
    "type Simplex = ([Point], Int)\n",
    "```\n",
    "\n",
    "## Konvexe Menge\n",
    "Jedes $d$-Simplex $smp$ bestimmt eine konvexe Menge $CS(smp)$ in $Q(d)$. \n",
    "\n",
    "Eine Teilmenge des euklidischen Raums (geometrische Figur) ist konvex, wenn für je zwei beliebige Punkte, die zur Menge gehören, auch stets deren Verbindungsstrecke ganz in der Menge liegt\n",
    "![konvexe Menge](img/cm1.PNG)\n",
    "\n",
    "Der Bereich enthält die Punkte innerhalb von $smp$ und auf dessen Grenze.\n",
    "\n",
    "Um zu bestimmen ob ein Punkt innerhalb oder auf $CS(smp)$ liegt, müssen die Facetten von $smp$ berechnet werden.\n",
    "\n",
    "## Facette\n",
    "Die Facette eines $d$-Simplex kann als Liste von $d$ Punkten und einer dazugehörigen Orientierung (abgeleitet von dem Simplex), dargestellt werden. \n",
    "Beispielsweise sind die Facetten einer Kante ihre zwei Endpunkte, die Facetten eines Dreiecks sind ihre drei Kanten.\n",
    "\n",
    "```Haskell\n",
    "\n",
    "type Facet = ([Point], Int).\n",
    "```\n",
    "\n",
    "### Beispiel\n",
    "Ein Dreieck $[a,b,c]$ mit positiver Orientierung im $Q(2)$ hat drei Facetten $([b, c], +1)$, $([a, c],−1)$, $([a, b], +1)$. \n",
    "Ein Punkt $p$ befindet sich innerhalb von $[a,b,c]$, wenn die drei Simplexe $ [p, b, c]$, $[p, a, c]$ und $[p, a, b]$ die Orientierungen $+1$, $−1$ und $+1$ haben. \n",
    "\n",
    "Implikation:\n",
    "- $p$ befindet sich links von der Kante $b$ nach $c$\n",
    "- $p$ befindet sich rechts von der Kante $a$ nach $c$\n",
    "- $p$ befindet sich links von der Kante $a$ nach $b$\n",
    "\n",
    "![Triangle](img/triangle1.PNG)\n",
    "\n",
    "## Konvexe Hülle\n",
    "Die konvexe Hülle $CH(vs)$ einer Punktmenge $vs$ in $Q(d)$ entspricht einem Bereich in $Q(d)$ und kann wie folgt definiert werden:\n",
    "- $CH(vs)$ ist die Vereinigung der Mengen $CS(smp)$ für alle $d$-Simplexe $smp$ bestimmt durch Punkte von $vs$\n",
    "\n",
    "In $Q(2)$ bestimmt sich die konvexe Hülle von $vs$ durch die Vereinigungsmenge der Bereiche, die durch alle Dreiecke deren Eckpunkte innerhalb von $vs$ liegen. \n",
    "\n",
    "Die Menge $CH(vs)$ lässt sich dementsprechend durch folgendes Prädikat charakterisieren:\n",
    "```Haskell\n",
    "\n",
    "insideCH :: [Point] -> Point -> Bool\n",
    "insideCH vs p = or [insideCS smp p | smp <- simplexes vs]\n",
    "```\n",
    "![Konvexe Hülle](img/ch.PNG)\n",
    "Das Bild zeigt die konvexe Hülle von Punkten in der Ebene. Sie besteht aus dem schwarz umrandeten Gebiet (inklusive Rand)."
   ]
  },
  {
   "cell_type": "markdown",
   "metadata": {},
   "source": [
    "## Hürden\n",
    "- `tuples` Funktion muss selbst implementiert werden\n",
    "- Bug in `op :: Facet -> [Facet] -> [Facet]`:\n",
    "    - Das Problem: `op smp [] = []`\n",
    "    - Lösung: `op smp [] = [smp]`\n",
    "- QuickCheck infinite Loop\n",
    "    - Das Problem: `points d (n + 1) = do {p <- point d; ps <- points d n; return (p : ps)}`\n",
    "    - Lösung: `points d n  = do { p <- point d; ps <- points d (n-1); return (p:ps) }` (statt vorne n + 1 nur das n übergeben und hinten 1 abziehen)\n",
    "- Bug in `partition` Funktion:\n",
    "     - Das Problem: `Just [smp] -> foldl update [smp] (vs \\\\ vertices smp)`\n",
    "     - Lösung: `Just smp -> foldl update [smp] (vs \\\\ vertices smp)`"
   ]
  },
  {
   "cell_type": "markdown",
   "metadata": {},
   "source": [
    "# Determinante\n",
    "Die Determinantenberechnungen stammen aus aus der \"Functional Pearl: Three ways of computing determinants\"."
   ]
  },
  {
   "cell_type": "code",
   "execution_count": 1,
   "metadata": {},
   "outputs": [],
   "source": [
    "minors :: [a] -> [[a]]\n",
    "minors [] = []\n",
    "minors (x : xs) = xs : map (x :) (minors xs)"
   ]
  },
  {
   "cell_type": "code",
   "execution_count": 2,
   "metadata": {},
   "outputs": [
    {
     "data": {
      "text/plain": [
       "[\"bcd\",\"acd\",\"abd\",\"abc\"]"
      ]
     },
     "metadata": {},
     "output_type": "display_data"
    }
   ],
   "source": [
    "minors \"abcd\""
   ]
  },
  {
   "cell_type": "code",
   "execution_count": 3,
   "metadata": {},
   "outputs": [],
   "source": [
    "det :: [[Integer]] -> Integer\n",
    "det [[x ]] = x\n",
    "det xss = foldr1 (-) (zipWith (*) col1 (map det (minors cols)))\n",
    "          where col1 = map head xss\n",
    "                cols = map tail xss"
   ]
  },
  {
   "cell_type": "code",
   "execution_count": 4,
   "metadata": {},
   "outputs": [
    {
     "data": {
      "text/plain": [
       "-25"
      ]
     },
     "metadata": {},
     "output_type": "display_data"
    }
   ],
   "source": [
    "matrix = [[2,2,1],[9,2,5],[3,7,3]]\n",
    "det matrix"
   ]
  },
  {
   "cell_type": "code",
   "execution_count": 5,
   "metadata": {},
   "outputs": [
    {
     "data": {
      "text/html": [
       "<style>/* Styles used for the Hoogle display in the pager */\n",
       ".hoogle-doc {\n",
       "display: block;\n",
       "padding-bottom: 1.3em;\n",
       "padding-left: 0.4em;\n",
       "}\n",
       ".hoogle-code {\n",
       "display: block;\n",
       "font-family: monospace;\n",
       "white-space: pre;\n",
       "}\n",
       ".hoogle-text {\n",
       "display: block;\n",
       "}\n",
       ".hoogle-name {\n",
       "color: green;\n",
       "font-weight: bold;\n",
       "}\n",
       ".hoogle-head {\n",
       "font-weight: bold;\n",
       "}\n",
       ".hoogle-sub {\n",
       "display: block;\n",
       "margin-left: 0.4em;\n",
       "}\n",
       ".hoogle-package {\n",
       "font-weight: bold;\n",
       "font-style: italic;\n",
       "}\n",
       ".hoogle-module {\n",
       "font-weight: bold;\n",
       "}\n",
       ".hoogle-class {\n",
       "font-weight: bold;\n",
       "}\n",
       ".get-type {\n",
       "color: green;\n",
       "font-weight: bold;\n",
       "font-family: monospace;\n",
       "display: block;\n",
       "white-space: pre-wrap;\n",
       "}\n",
       ".show-type {\n",
       "color: green;\n",
       "font-weight: bold;\n",
       "font-family: monospace;\n",
       "margin-left: 1em;\n",
       "}\n",
       ".mono {\n",
       "font-family: monospace;\n",
       "display: block;\n",
       "}\n",
       ".err-msg {\n",
       "color: red;\n",
       "font-style: italic;\n",
       "font-family: monospace;\n",
       "white-space: pre;\n",
       "display: block;\n",
       "}\n",
       "#unshowable {\n",
       "color: red;\n",
       "font-weight: bold;\n",
       "}\n",
       ".err-msg.in.collapse {\n",
       "padding-top: 0.7em;\n",
       "}\n",
       ".highlight-code {\n",
       "white-space: pre;\n",
       "font-family: monospace;\n",
       "}\n",
       ".suggestion-warning { \n",
       "font-weight: bold;\n",
       "color: rgb(200, 130, 0);\n",
       "}\n",
       ".suggestion-error { \n",
       "font-weight: bold;\n",
       "color: red;\n",
       "}\n",
       ".suggestion-name {\n",
       "font-weight: bold;\n",
       "}\n",
       "</style><div class=\"suggestion-name\" style=\"clear:both;\">Use tuple-section</div><div class=\"suggestion-row\" style=\"float: left;\"><div class=\"suggestion-warning\">Found:</div><div class=\"highlight-code\" id=\"haskell\">((,) x)</div></div><div class=\"suggestion-row\" style=\"float: left;\"><div class=\"suggestion-warning\">Why Not:</div><div class=\"highlight-code\" id=\"haskell\">(x,)</div></div>"
      ],
      "text/plain": [
       "Line 13: Use tuple-section\n",
       "Found:\n",
       "((,) x)\n",
       "Why not:\n",
       "(x,)"
      ]
     },
     "metadata": {},
     "output_type": "display_data"
    }
   ],
   "source": [
    "-- A more fancy Determinant calculation based on Integer Division\n",
    "det :: [[Integer]] -> Integer\n",
    "det [[x]] = x\n",
    "det xss =\n",
    "  case break ((/= 0) . head) xss of\n",
    "   (yss, [ ]) -> 0\n",
    "   (yss, zs : zss) -> let x = det(condense(zs : yss ++ zss))\n",
    "                          d = head zs ^ (length xss - 2)\n",
    "                          y = x `div` d\n",
    "                      in if even (length yss) then y else -y\n",
    "\n",
    "condense = map (map det . pair . uncurry zip) . pair\n",
    "           where pair (x : xs) = map ((, ) x ) xs\n",
    "                 det ((a, b), (c, d)) = a * d - b * c"
   ]
  },
  {
   "cell_type": "code",
   "execution_count": 25,
   "metadata": {},
   "outputs": [
    {
     "data": {
      "text/plain": [
       "-25"
      ]
     },
     "metadata": {},
     "output_type": "display_data"
    }
   ],
   "source": [
    "matrix = [[2,2,1],[9,2,5],[3,7,3]]\n",
    "det matrix"
   ]
  },
  {
   "cell_type": "markdown",
   "metadata": {},
   "source": [
    "# Konvexe Hülle"
   ]
  },
  {
   "cell_type": "code",
   "execution_count": 6,
   "metadata": {},
   "outputs": [],
   "source": [
    "import Data.List\n",
    "\n",
    "type Point = [Integer]\n",
    "type Facet = ([Point], Int)\n",
    "type Simplex = ([Point], Int)\n",
    "\n",
    "dimension :: Point -> Int\n",
    "dimension ps = length ps - 1\n",
    "\n",
    "orientation :: [Point] -> Int\n",
    "orientation = fromIntegral . signum . det\n",
    "\n",
    "facets :: Simplex -> [Facet]\n",
    "facets (us, b) = zip (minors us) (cycle [b, -b])\n",
    "\n",
    "insideCS :: Simplex -> Point -> Bool\n",
    "-- The generator (us, b) <- facets smp feeds each Facet in turn to the left-hand expression\n",
    "insideCS smp p = and [0 <= b * orientation (p : us) | (us, b) <- facets smp]"
   ]
  },
  {
   "cell_type": "code",
   "execution_count": 7,
   "metadata": {},
   "outputs": [
    {
     "data": {
      "text/plain": [
       "[[[1,2],[3,4]],[[1,2],[5,6]],[[3,4],[5,6]],[[1,2],[7,8]],[[3,4],[7,8]],[[5,6],[7,8]]]"
      ]
     },
     "metadata": {},
     "output_type": "display_data"
    }
   ],
   "source": [
    "-- Excercise:\n",
    "-- The value of tuples n vs is a list of all n-tuples of vs; that is, all subsequences\n",
    "-- of vs of length n. The definition of tuples is left as an exercise.\n",
    "\n",
    "tuples' :: Int -> [a] -> [[a]]\n",
    "tuples' n vs = filter (\\x -> length x == n) (subsequences vs)\n",
    "\n",
    "tuples :: Int -> [a] -> [[a]]\n",
    "tuples n = filter ((==n) . length) . subsequences\n",
    "\n",
    "tuples 2 [[1,2], [3,4], [5,6], [7,8]]"
   ]
  },
  {
   "cell_type": "code",
   "execution_count": 8,
   "metadata": {},
   "outputs": [],
   "source": [
    "insideCH :: [Point] -> Point -> Bool\n",
    "insideCH vs p = or [insideCS smp p | smp <- simplexes vs]\n",
    "\n",
    "simplexes :: [Point] -> [Simplex]\n",
    "simplexes vs = [(us, b) | us <- tuples (d + 1) vs,\n",
    "                          let b = orientation us, b /= 0]\n",
    "               where d = dimension (head vs)\n",
    "\n",
    "-- Vertices of a Simplex (i.e. a sorted list of points without the orientation component)\n",
    "vertices :: Simplex -> [Point]\n",
    "vertices = sort . fst"
   ]
  },
  {
   "cell_type": "markdown",
   "metadata": {},
   "source": [
    "## Find a Simplex"
   ]
  },
  {
   "cell_type": "code",
   "execution_count": 9,
   "metadata": {},
   "outputs": [],
   "source": [
    "-- The inefficient variant\n",
    "findSimplex :: [Point] -> Maybe Simplex\n",
    "findSimplex vs = if null smps then Nothing \n",
    "                 else Just (head smps)\n",
    "                 where smps = simplexes vs"
   ]
  },
  {
   "cell_type": "code",
   "execution_count": 10,
   "metadata": {},
   "outputs": [],
   "source": [
    "-- The more efficient variant\n",
    "findSimplex :: [Point] -> Maybe Simplex\n",
    "findSimplex [] = Nothing\n",
    "findSimplex (v : vs) = search (length v - 1) 1 [v] vs\n",
    "\n",
    "search d k us vs\n",
    "  | k == d + 1 = Just (us, orientation us)\n",
    "  | null vs = Nothing\n",
    "  | degenerate k (v : us) = search d k us (tail vs)\n",
    "  | otherwise = search d (k + 1) (v : us) (tail vs)\n",
    "    where v = head vs\n",
    "\n",
    "submatrices k vs = map (++[last vs]) (tuples k (init vs))\n",
    "degenerate k = all (==0) . map det . submatrices k . transpose"
   ]
  },
  {
   "cell_type": "markdown",
   "metadata": {},
   "source": [
    "## Update"
   ]
  },
  {
   "cell_type": "code",
   "execution_count": 11,
   "metadata": {},
   "outputs": [],
   "source": [
    "external :: [Simplex] -> [Facet]\n",
    "external = foldr op [] . sort . concatMap facets\n",
    "                       \n",
    "op :: Facet -> [Facet] -> [Facet]\n",
    "op smp []     = [smp]  -- bug fixed\n",
    "op smp (smp' : smps) = if vertices smp == vertices smp' then smps \n",
    "                       else smp : smp' : smps\n",
    "                       \n",
    "visible :: Point -> [Facet] -> [Facet]\n",
    "visible v fs = [(us, b) | (us, b) <- fs, b * orientation (v : us) < 0]\n",
    "\n",
    "newSimplex :: Point -> Facet -> Simplex\n",
    "newSimplex v (us, b) = (v : us, -b)\n",
    "\n",
    "update :: [Simplex] -> Point -> [Simplex]\n",
    "update smps v = smps ++ map (newSimplex v) (visible v (external smps))"
   ]
  },
  {
   "cell_type": "markdown",
   "metadata": {},
   "source": [
    "## Incremental Algorithm"
   ]
  },
  {
   "cell_type": "code",
   "execution_count": 12,
   "metadata": {},
   "outputs": [],
   "source": [
    "insideCH' :: [Point] -> Point -> Bool\n",
    "insideCH' vs p = or [insideCS smp p | smp <- partition vs] \n",
    "\n",
    "partition :: [Point] -> [Simplex]\n",
    "partition vs\n",
    "    = case findSimplex vs of\n",
    "        Nothing -> []\n",
    "        Just smp -> foldl update [smp] (vs \\\\ vertices smp)\n",
    "        -- Just [smp] -> foldl update [smp] (vs \\\\ vertices smp)"
   ]
  },
  {
   "cell_type": "markdown",
   "metadata": {},
   "source": [
    "## Test"
   ]
  },
  {
   "cell_type": "code",
   "execution_count": 13,
   "metadata": {},
   "outputs": [],
   "source": [
    "pts = [[2, 4, 1],\n",
    "       [4, 7, 1],\n",
    "       [2, 2, 1],\n",
    "       [9, 6, 1],\n",
    "       [1, 9, 1],\n",
    "       [5, 7, 1],\n",
    "       [0, 9, 1],\n",
    "       [5, 1, 1],\n",
    "       [0, 2, 1],\n",
    "       [8, 4, 1],\n",
    "       [6, 6, 1],\n",
    "       [3, 6, 1],\n",
    "       [1, 9, 1],\n",
    "       [0, 5, 1],\n",
    "       [0, 3, 1],\n",
    "       [9, 4, 1],\n",
    "       [9, 5, 1],\n",
    "       [6, 0, 1],\n",
    "       [6, 7, 1],\n",
    "       [3, 6, 1],\n",
    "       [6, 8, 1],\n",
    "       [1, 0, 1],\n",
    "       [7, 8, 1],\n",
    "       [9, 6, 1],\n",
    "       [6, 9, 1],\n",
    "       [2, 9, 1],\n",
    "       [8, 8, 1],\n",
    "       [6, 7, 1],\n",
    "       [9, 8, 1],\n",
    "       [0, 4, 1]]"
   ]
  },
  {
   "cell_type": "code",
   "execution_count": 14,
   "metadata": {},
   "outputs": [
    {
     "data": {
      "text/html": [
       "<style>/* Styles used for the Hoogle display in the pager */\n",
       ".hoogle-doc {\n",
       "display: block;\n",
       "padding-bottom: 1.3em;\n",
       "padding-left: 0.4em;\n",
       "}\n",
       ".hoogle-code {\n",
       "display: block;\n",
       "font-family: monospace;\n",
       "white-space: pre;\n",
       "}\n",
       ".hoogle-text {\n",
       "display: block;\n",
       "}\n",
       ".hoogle-name {\n",
       "color: green;\n",
       "font-weight: bold;\n",
       "}\n",
       ".hoogle-head {\n",
       "font-weight: bold;\n",
       "}\n",
       ".hoogle-sub {\n",
       "display: block;\n",
       "margin-left: 0.4em;\n",
       "}\n",
       ".hoogle-package {\n",
       "font-weight: bold;\n",
       "font-style: italic;\n",
       "}\n",
       ".hoogle-module {\n",
       "font-weight: bold;\n",
       "}\n",
       ".hoogle-class {\n",
       "font-weight: bold;\n",
       "}\n",
       ".get-type {\n",
       "color: green;\n",
       "font-weight: bold;\n",
       "font-family: monospace;\n",
       "display: block;\n",
       "white-space: pre-wrap;\n",
       "}\n",
       ".show-type {\n",
       "color: green;\n",
       "font-weight: bold;\n",
       "font-family: monospace;\n",
       "margin-left: 1em;\n",
       "}\n",
       ".mono {\n",
       "font-family: monospace;\n",
       "display: block;\n",
       "}\n",
       ".err-msg {\n",
       "color: red;\n",
       "font-style: italic;\n",
       "font-family: monospace;\n",
       "white-space: pre;\n",
       "display: block;\n",
       "}\n",
       "#unshowable {\n",
       "color: red;\n",
       "font-weight: bold;\n",
       "}\n",
       ".err-msg.in.collapse {\n",
       "padding-top: 0.7em;\n",
       "}\n",
       ".highlight-code {\n",
       "white-space: pre;\n",
       "font-family: monospace;\n",
       "}\n",
       ".suggestion-warning { \n",
       "font-weight: bold;\n",
       "color: rgb(200, 130, 0);\n",
       "}\n",
       ".suggestion-error { \n",
       "font-weight: bold;\n",
       "color: red;\n",
       "}\n",
       ".suggestion-name {\n",
       "font-weight: bold;\n",
       "}\n",
       "</style><div class=\"suggestion-name\" style=\"clear:both;\">Avoid lambda</div><div class=\"suggestion-row\" style=\"float: left;\"><div class=\"suggestion-warning\">Found:</div><div class=\"highlight-code\" id=\"haskell\">\\ x -> insideCH' pts x</div></div><div class=\"suggestion-row\" style=\"float: left;\"><div class=\"suggestion-warning\">Why Not:</div><div class=\"highlight-code\" id=\"haskell\">insideCH' pts</div></div>"
      ],
      "text/plain": [
       "Line 3: Avoid lambda\n",
       "Found:\n",
       "\\ x -> insideCH' pts x\n",
       "Why not:\n",
       "insideCH' pts"
      ]
     },
     "metadata": {},
     "output_type": "display_data"
    },
    {
     "data": {
      "text/plain": [
       "[True,False,True,False]"
      ]
     },
     "metadata": {},
     "output_type": "display_data"
    }
   ],
   "source": [
    "testPts = [[5, 5, 1], [0, 1, 1], [1, 4, 1], [50, 50, 1]]\n",
    "\n",
    "r = map(\\x -> insideCH' pts x) testPts\n",
    "r"
   ]
  },
  {
   "cell_type": "code",
   "execution_count": null,
   "metadata": {},
   "outputs": [
    {
     "data": {
      "text/html": [
       "<style>/* Styles used for the Hoogle display in the pager */\n",
       ".hoogle-doc {\n",
       "display: block;\n",
       "padding-bottom: 1.3em;\n",
       "padding-left: 0.4em;\n",
       "}\n",
       ".hoogle-code {\n",
       "display: block;\n",
       "font-family: monospace;\n",
       "white-space: pre;\n",
       "}\n",
       ".hoogle-text {\n",
       "display: block;\n",
       "}\n",
       ".hoogle-name {\n",
       "color: green;\n",
       "font-weight: bold;\n",
       "}\n",
       ".hoogle-head {\n",
       "font-weight: bold;\n",
       "}\n",
       ".hoogle-sub {\n",
       "display: block;\n",
       "margin-left: 0.4em;\n",
       "}\n",
       ".hoogle-package {\n",
       "font-weight: bold;\n",
       "font-style: italic;\n",
       "}\n",
       ".hoogle-module {\n",
       "font-weight: bold;\n",
       "}\n",
       ".hoogle-class {\n",
       "font-weight: bold;\n",
       "}\n",
       ".get-type {\n",
       "color: green;\n",
       "font-weight: bold;\n",
       "font-family: monospace;\n",
       "display: block;\n",
       "white-space: pre-wrap;\n",
       "}\n",
       ".show-type {\n",
       "color: green;\n",
       "font-weight: bold;\n",
       "font-family: monospace;\n",
       "margin-left: 1em;\n",
       "}\n",
       ".mono {\n",
       "font-family: monospace;\n",
       "display: block;\n",
       "}\n",
       ".err-msg {\n",
       "color: red;\n",
       "font-style: italic;\n",
       "font-family: monospace;\n",
       "white-space: pre;\n",
       "display: block;\n",
       "}\n",
       "#unshowable {\n",
       "color: red;\n",
       "font-weight: bold;\n",
       "}\n",
       ".err-msg.in.collapse {\n",
       "padding-top: 0.7em;\n",
       "}\n",
       ".highlight-code {\n",
       "white-space: pre;\n",
       "font-family: monospace;\n",
       "}\n",
       ".suggestion-warning { \n",
       "font-weight: bold;\n",
       "color: rgb(200, 130, 0);\n",
       "}\n",
       ".suggestion-error { \n",
       "font-weight: bold;\n",
       "color: red;\n",
       "}\n",
       ".suggestion-name {\n",
       "font-weight: bold;\n",
       "}\n",
       "</style><div class=\"suggestion-name\" style=\"clear:both;\">Avoid lambda</div><div class=\"suggestion-row\" style=\"float: left;\"><div class=\"suggestion-warning\">Found:</div><div class=\"highlight-code\" id=\"haskell\">\\ x -> insideCH pts x</div></div><div class=\"suggestion-row\" style=\"float: left;\"><div class=\"suggestion-warning\">Why Not:</div><div class=\"highlight-code\" id=\"haskell\">insideCH pts</div></div>"
      ],
      "text/plain": [
       "Line 1: Avoid lambda\n",
       "Found:\n",
       "\\ x -> insideCH pts x\n",
       "Why not:\n",
       "insideCH pts"
      ]
     },
     "metadata": {},
     "output_type": "display_data"
    }
   ],
   "source": [
    "r = map(\\x -> insideCH pts x) testPts\n",
    "r"
   ]
  },
  {
   "cell_type": "code",
   "execution_count": null,
   "metadata": {},
   "outputs": [],
   "source": [
    "length r"
   ]
  },
  {
   "cell_type": "code",
   "execution_count": null,
   "metadata": {},
   "outputs": [],
   "source": [
    "filter (\\x -> x == True) r"
   ]
  },
  {
   "cell_type": "code",
   "execution_count": null,
   "metadata": {},
   "outputs": [],
   "source": [
    "filtermask f [] [] = []\n",
    "filtermask f (fm:rm) (fd:rd)\n",
    "  |f fm fd = fd:filtermask f rm rd\n",
    "  |otherwise = filtermask f rm rd"
   ]
  },
  {
   "cell_type": "code",
   "execution_count": null,
   "metadata": {},
   "outputs": [],
   "source": [
    "filtermask (\\m d -> m == True) r pts"
   ]
  },
  {
   "cell_type": "code",
   "execution_count": null,
   "metadata": {},
   "outputs": [],
   "source": [
    "testPts = [[10, 10], [1,1], [0,4], [50,50], [3,6], [-1, 5]]\n",
    "r = map(\\x -> insideCH' pts x) testPts\n",
    "r"
   ]
  },
  {
   "cell_type": "code",
   "execution_count": null,
   "metadata": {},
   "outputs": [],
   "source": [
    "-- Dont do this --> infinite loop\n",
    "-- insideCH pts [-20, -20]"
   ]
  },
  {
   "cell_type": "code",
   "execution_count": null,
   "metadata": {},
   "outputs": [],
   "source": []
  },
  {
   "cell_type": "code",
   "execution_count": 43,
   "metadata": {},
   "outputs": [
    {
     "data": {
      "text/plain": [
       "False"
      ]
     },
     "metadata": {},
     "output_type": "display_data"
    },
    {
     "data": {
      "text/plain": [
       "False"
      ]
     },
     "metadata": {},
     "output_type": "display_data"
    }
   ],
   "source": [
    "-- Collinear Points\n",
    "collinearPts = [[0,0,1],[0,0,1],[0,0,1],[-1,-1,1]]\n",
    "insideCH collinearPts [1,0,1]\n",
    "insideCH' collinearPts [1,0,1]"
   ]
  },
  {
   "cell_type": "markdown",
   "metadata": {},
   "source": [
    "## An Improvement"
   ]
  },
  {
   "cell_type": "code",
   "execution_count": 13,
   "metadata": {},
   "outputs": [],
   "source": [
    "-- insideCH'' vs p = if null fs\n",
    "--     then False\n",
    "--    else and [0 <= b*orientation (p:us) | (us, b) <- fs]\n",
    "--    where fs = faces vs\n",
    " \n",
    " \n",
    "-- Bug fix: Here we have to call the faces function on vs\n",
    "insideCH'' vs p = not (null fs) && and [0 <= b * orientation (p : us) | (us, b) <- fs]\n",
    "                  where fs = faces vs\n",
    " \n",
    "-- Bug fix: Here we have to replace Just [smp] -> foldl update' (facets smp) (vs \\\\ vertices vs) by the below expression\n",
    "faces :: [Point] -> [Facet]\n",
    "faces vs = case findSimplex vs of\n",
    "           Nothing -> []\n",
    "           Just smp  -> foldl update' (facets smp) (vs \\\\ vertices smp)\n",
    " \n",
    "update' :: [Facet] -> Point -> [Facet]\n",
    "update' fs v = (fs \\\\ fs') ++ map (newFacet v) (external fs')\n",
    "               where fs' = visible v fs\n",
    " \n",
    "newFacet v (us, b) = (v:us, b)"
   ]
  },
  {
   "cell_type": "markdown",
   "metadata": {},
   "source": [
    "## QuickCheck"
   ]
  },
  {
   "cell_type": "code",
   "execution_count": 23,
   "metadata": {},
   "outputs": [
    {
     "data": {
      "text/plain": [
       "+++ OK, passed 100 tests."
      ]
     },
     "metadata": {},
     "output_type": "display_data"
    }
   ],
   "source": [
    "import Test.QuickCheck\n",
    "\n",
    "point :: Int -> Gen [Integer]\n",
    "point d = do { xs <- vector d; return (xs ++ [1]) }\n",
    " \n",
    "points :: Int -> Int -> Gen [[Integer]]\n",
    "points d 0  = return []\n",
    "points d n  = do { p <- point d; ps <- points d (n-1); return (p:ps) }\n",
    " \n",
    "prop_Hull :: Int -> Int -> Property\n",
    "prop_Hull d n =\n",
    "    forAll (points d n) $ \\vs ->\n",
    "    forAll (point d) $ \\v ->\n",
    "    insideCH vs v == insideCH' vs v && insideCH vs v == insideCH'' vs v\n",
    " \n",
    "qc = quickCheck (prop_Hull 2 4)\n",
    "qc"
   ]
  },
  {
   "cell_type": "code",
   "execution_count": 24,
   "metadata": {
    "scrolled": true
   },
   "outputs": [
    {
     "data": {
      "text/plain": [
       "Passed:\n",
       "[[0,0,1],[0,0,1],[0,0,1],[0,0,1],[0,0,1],[0,0,1],[0,0,1],[0,0,1],[0,0,1],[0,0,1]]\n",
       "[0,0,1]\n",
       "\n",
       "Passed:\n",
       "[[0,1,1],[0,1,1],[1,0,1],[0,1,1],[1,1,1],[-1,-1,1],[1,-1,1],[0,1,1],[0,-1,1],[1,-1,1]]\n",
       "[0,1,1]\n",
       "\n",
       "Passed:\n",
       "[[-1,2,1],[1,1,1],[2,-2,1],[2,1,1],[-2,-2,1],[1,-2,1],[0,2,1],[-1,-1,1],[2,-2,1],[-2,-1,1]]\n",
       "[1,-1,1]\n",
       "\n",
       "Passed:\n",
       "[[2,-3,1],[-3,-3,1],[-1,-2,1],[1,2,1],[-1,0,1],[2,0,1],[0,2,1],[1,-2,1],[-2,-1,1],[-3,-3,1]]\n",
       "[1,0,1]\n",
       "\n",
       "Passed:\n",
       "[[-1,-1,1],[-1,1,1],[1,4,1],[-1,-4,1],[4,-4,1],[2,-2,1],[-3,2,1],[2,-2,1],[-1,1,1],[0,-4,1]]\n",
       "[-4,0,1]\n",
       "\n",
       "Passed:\n",
       "[[1,-1,1],[0,-2,1],[-2,-2,1],[0,4,1],[0,1,1],[0,-4,1],[4,2,1],[-1,4,1],[-1,1,1],[4,-5,1]]\n",
       "[-3,1,1]\n",
       "\n",
       "Passed:\n",
       "[[0,4,1],[2,5,1],[-1,0,1],[-4,-6,1],[-2,-1,1],[3,-1,1],[-3,-5,1],[2,0,1],[-3,-5,1],[-6,0,1]]\n",
       "[5,-2,1]\n",
       "\n",
       "Passed:\n",
       "[[7,4,1],[-6,4,1],[3,5,1],[-4,-6,1],[-3,-1,1],[7,0,1],[2,2,1],[6,-4,1],[6,-5,1],[-2,6,1]]\n",
       "[6,5,1]\n",
       "\n",
       "Passed:\n",
       "[[4,-6,1],[-7,-2,1],[-7,7,1],[-3,0,1],[-5,-4,1],[-7,-6,1],[4,8,1],[5,1,1],[-8,6,1],[-8,7,1]]\n",
       "[5,-3,1]\n",
       "\n",
       "Passed:\n",
       "[[-9,2,1],[9,-9,1],[-9,1,1],[-4,-8,1],[1,-1,1],[-2,3,1],[-8,4,1],[-7,1,1],[1,3,1],[5,-5,1]]\n",
       "[-9,-6,1]\n",
       "\n",
       "Passed:\n",
       "[[9,-9,1],[-4,10,1],[8,9,1],[-9,0,1],[0,-5,1],[-9,2,1],[9,9,1],[-6,-9,1],[9,6,1],[4,10,1]]\n",
       "[-10,-10,1]\n",
       "\n",
       "Passed:\n",
       "[[6,9,1],[-10,3,1],[-5,3,1],[6,-6,1],[11,-6,1],[-1,10,1],[-8,3,1],[9,8,1],[-1,-1,1],[-1,8,1]]\n",
       "[-2,-4,1]\n",
       "\n",
       "Passed:\n",
       "[[4,7,1],[2,12,1],[10,2,1],[4,0,1],[2,-12,1],[1,11,1],[-10,-8,1],[5,9,1],[4,9,1],[8,-7,1]]\n",
       "[-6,12,1]\n",
       "\n",
       "Passed:\n",
       "[[0,-10,1],[4,-2,1],[-2,5,1],[-7,-4,1],[7,4,1],[-4,-8,1],[-9,2,1],[4,-13,1],[-13,7,1],[0,7,1]]\n",
       "[2,10,1]\n",
       "\n",
       "Passed:\n",
       "[[13,11,1],[6,-8,1],[-11,-7,1],[-7,-7,1],[4,12,1],[8,12,1],[2,-1,1],[0,0,1],[-14,-11,1],[7,-9,1]]\n",
       "[-12,-6,1]\n",
       "\n",
       "Passed:\n",
       "[[1,-15,1],[-15,-14,1],[-7,-10,1],[10,14,1],[2,-14,1],[-6,-2,1],[-9,-2,1],[-7,-3,1],[-11,1,1],[7,8,1]]\n",
       "[15,10,1]\n",
       "\n",
       "Passed:\n",
       "[[-3,4,1],[2,14,1],[16,-7,1],[-1,2,1],[-7,15,1],[4,-5,1],[6,-8,1],[-3,11,1],[-16,-6,1],[14,1,1]]\n",
       "[-9,-4,1]\n",
       "\n",
       "Passed:\n",
       "[[-8,14,1],[11,-12,1],[3,8,1],[-2,-2,1],[3,15,1],[11,4,1],[-9,-12,1],[8,-9,1],[7,17,1],[7,-8,1]]\n",
       "[4,0,1]\n",
       "\n",
       "Passed:\n",
       "[[-8,12,1],[16,-17,1],[-18,-18,1],[-1,-16,1],[5,15,1],[-2,3,1],[-14,-13,1],[16,-16,1],[-2,7,1],[14,-18,1]]\n",
       "[7,-8,1]\n",
       "\n",
       "Passed:\n",
       "[[17,18,1],[12,-14,1],[-5,-8,1],[11,6,1],[-6,0,1],[5,19,1],[18,16,1],[6,-6,1],[6,-6,1],[-6,4,1]]\n",
       "[-1,-15,1]\n",
       "\n",
       "Passed:\n",
       "[[-2,3,1],[11,18,1],[1,-16,1],[3,6,1],[-9,11,1],[12,17,1],[2,-13,1],[4,13,1],[7,0,1],[5,20,1]]\n",
       "[15,-7,1]\n",
       "\n",
       "Passed:\n",
       "[[11,-14,1],[2,-7,1],[15,10,1],[8,16,1],[-11,3,1],[-16,2,1],[12,-6,1],[1,10,1],[-1,-16,1],[-18,20,1]]\n",
       "[-7,6,1]\n",
       "\n",
       "Passed:\n",
       "[[15,-10,1],[3,7,1],[-19,9,1],[1,13,1],[3,3,1],[19,-4,1],[4,-8,1],[-21,22,1],[-15,-12,1],[-10,7,1]]\n",
       "[10,0,1]\n",
       "\n",
       "Passed:\n",
       "[[20,-12,1],[18,-1,1],[2,1,1],[-13,11,1],[-17,2,1],[-19,0,1],[9,3,1],[-15,-6,1],[8,5,1],[19,20,1]]\n",
       "[-1,-11,1]\n",
       "\n",
       "Passed:\n",
       "[[17,13,1],[-14,7,1],[8,-5,1],[3,6,1],[7,-7,1],[7,-3,1],[-19,-16,1],[18,-1,1],[-15,2,1],[16,2,1]]\n",
       "[9,1,1]\n",
       "\n",
       "Passed:\n",
       "[[13,-20,1],[-25,25,1],[25,9,1],[12,17,1],[-11,-10,1],[-2,2,1],[-12,24,1],[11,19,1],[-4,17,1],[6,18,1]]\n",
       "[-11,-16,1]\n",
       "\n",
       "Passed:\n",
       "[[20,10,1],[-13,18,1],[-1,8,1],[11,18,1],[20,-8,1],[-6,4,1],[0,-16,1],[22,26,1],[7,-20,1],[5,20,1]]\n",
       "[20,-9,1]\n",
       "\n",
       "Passed:\n",
       "[[-27,-10,1],[-5,-6,1],[-16,9,1],[27,17,1],[-2,25,1],[-4,14,1],[-22,-19,1],[-1,-10,1],[-13,-12,1],[14,-6,1]]\n",
       "[-24,-26,1]\n",
       "\n",
       "Passed:\n",
       "[[13,-9,1],[16,-26,1],[-7,-10,1],[5,-14,1],[5,-22,1],[-1,7,1],[8,-7,1],[10,-5,1],[21,-11,1],[-26,13,1]]\n",
       "[-27,4,1]\n",
       "\n",
       "Passed:\n",
       "[[23,12,1],[29,-4,1],[-24,17,1],[29,-26,1],[1,2,1],[-5,3,1],[15,5,1],[17,10,1],[24,24,1],[13,8,1]]\n",
       "[-28,-25,1]\n",
       "\n",
       "Passed:\n",
       "[[28,1,1],[12,-29,1],[16,15,1],[-11,-26,1],[28,-7,1],[15,-24,1],[-20,26,1],[7,26,1],[15,4,1],[22,-10,1]]\n",
       "[25,21,1]\n",
       "\n",
       "Passed:\n",
       "[[28,-4,1],[30,9,1],[-3,-6,1],[-19,-21,1],[9,-15,1],[-4,-2,1],[31,17,1],[9,-18,1],[12,-4,1],[-26,-22,1]]\n",
       "[8,-13,1]\n",
       "\n",
       "Passed:\n",
       "[[-5,-29,1],[23,27,1],[23,-1,1],[21,18,1],[-13,3,1],[25,28,1],[-18,25,1],[-26,17,1],[-2,28,1],[5,-6,1]]\n",
       "[20,3,1]\n",
       "\n",
       "Passed:\n",
       "[[-15,-18,1],[-27,-23,1],[32,-12,1],[18,26,1],[-30,15,1],[11,-16,1],[-25,-12,1],[12,29,1],[13,32,1],[-25,18,1]]\n",
       "[28,18,1]\n",
       "\n",
       "Passed:\n",
       "[[3,-27,1],[-16,27,1],[-5,-16,1],[4,-28,1],[-19,0,1],[2,-6,1],[18,-2,1],[16,-33,1],[33,1,1],[33,-16,1]]\n",
       "[3,22,1]\n",
       "\n",
       "Passed:\n",
       "[[26,-29,1],[-17,21,1],[-22,-28,1],[30,-16,1],[-32,9,1],[-3,-26,1],[32,10,1],[16,10,1],[-14,5,1],[18,-6,1]]\n",
       "[18,22,1]\n",
       "\n",
       "Passed:\n",
       "[[3,-11,1],[8,-4,1],[-16,5,1],[-32,29,1],[33,7,1],[27,20,1],[8,23,1],[-19,36,1],[8,-23,1],[31,4,1]]\n",
       "[-6,24,1]\n",
       "\n",
       "Passed:\n",
       "[[2,34,1],[20,12,1],[17,11,1],[-10,26,1],[-30,33,1],[-20,2,1],[36,-13,1],[-25,1,1],[36,-22,1],[-9,13,1]]\n",
       "[3,-36,1]\n",
       "\n",
       "Passed:\n",
       "[[16,16,1],[-33,-17,1],[-15,37,1],[-24,-33,1],[-9,-19,1],[-26,-8,1],[-5,33,1],[14,38,1],[1,-12,1],[9,6,1]]\n",
       "[30,-4,1]\n",
       "\n",
       "Passed:\n",
       "[[-23,2,1],[-7,-37,1],[-33,1,1],[-2,-5,1],[23,28,1],[-11,-1,1],[31,16,1],[-37,-13,1],[10,24,1],[28,35,1]]\n",
       "[35,-17,1]\n",
       "\n",
       "Passed:\n",
       "[[16,-27,1],[2,17,1],[-11,-30,1],[-10,-4,1],[15,-13,1],[12,-33,1],[34,-14,1],[-36,8,1],[3,-6,1],[26,30,1]]\n",
       "[-17,-32,1]\n",
       "\n",
       "Passed:\n",
       "[[-25,-20,1],[41,31,1],[28,-18,1],[16,-17,1],[-7,38,1],[3,-14,1],[11,-36,1],[-25,32,1],[-2,-1,1],[8,41,1]]\n",
       "[-26,-2,1]\n",
       "\n",
       "Passed:\n",
       "[[-36,5,1],[-16,6,1],[-9,27,1],[6,38,1],[-22,-34,1],[29,-18,1],[8,-29,1],[25,-8,1],[2,12,1],[-39,-7,1]]\n",
       "[-22,-19,1]\n",
       "\n",
       "Passed:\n",
       "[[-37,26,1],[-41,37,1],[10,-36,1],[-24,-21,1],[-17,34,1],[3,-17,1],[13,10,1],[-21,-16,1],[-35,10,1],[32,19,1]]\n",
       "[36,-31,1]\n",
       "\n",
       "Passed:\n",
       "[[39,-27,1],[24,-6,1],[24,41,1],[-36,-2,1],[28,-17,1],[38,4,1],[3,8,1],[6,11,1],[35,34,1],[37,6,1]]\n",
       "[16,-9,1]\n",
       "\n",
       "Passed:\n",
       "[[-17,-16,1],[-31,41,1],[24,-5,1],[-34,6,1],[-20,35,1],[-3,29,1],[-16,23,1],[-37,-2,1],[4,4,1],[34,-19,1]]\n",
       "[-12,-3,1]\n",
       "\n",
       "Passed:\n",
       "[[15,-22,1],[31,6,1],[-22,29,1],[-23,-2,1],[-19,3,1],[32,10,1],[14,18,1],[39,-36,1],[-1,12,1],[39,7,1]]\n",
       "[17,34,1]\n",
       "\n",
       "Passed:\n",
       "[[41,-4,1],[-41,11,1],[41,9,1],[-26,-40,1],[-9,-35,1],[13,9,1],[7,-41,1],[15,-36,1],[6,19,1],[-18,38,1]]\n",
       "[46,-35,1]\n",
       "\n",
       "Passed:\n",
       "[[25,31,1],[-40,22,1],[-5,36,1],[-42,-31,1],[31,-45,1],[-9,-34,1],[-2,46,1],[-1,-18,1],[-39,48,1],[24,-38,1]]\n",
       "[-6,38,1]\n",
       "\n",
       "Passed:\n",
       "[[-41,24,1],[48,35,1],[-12,-27,1],[-30,43,1],[-6,43,1],[-14,-6,1],[-11,49,1],[-26,-36,1],[-26,-22,1],[19,-1,1]]\n",
       "[18,2,1]\n",
       "\n",
       "Passed:\n",
       "[[-50,22,1],[38,4,1],[2,-9,1],[-48,-14,1],[-14,-7,1],[-17,-22,1],[-36,-40,1],[-45,-13,1],[39,-49,1],[-10,14,1]]\n",
       "[45,-49,1]\n",
       "\n",
       "Passed:\n",
       "[[-11,18,1],[7,49,1],[-18,-30,1],[2,-28,1],[36,51,1],[1,-44,1],[-46,48,1],[35,16,1],[28,-11,1],[-10,-35,1]]\n",
       "[-29,50,1]\n",
       "\n",
       "Passed:\n",
       "[[27,45,1],[5,-6,1],[-30,-4,1],[-22,-47,1],[-27,-41,1],[16,49,1],[0,-49,1],[-50,-5,1],[1,-37,1],[-19,25,1]]\n",
       "[21,42,1]\n",
       "\n",
       "Passed:\n",
       "[[30,45,1],[5,-45,1],[-39,22,1],[49,-46,1],[17,-12,1],[-20,-34,1],[17,-48,1],[41,1,1],[-43,41,1],[20,0,1]]\n",
       "[10,-12,1]\n",
       "\n",
       "Passed:\n",
       "[[47,-7,1],[47,-35,1],[44,-3,1],[-10,40,1],[32,-21,1],[-7,-30,1],[-50,13,1],[-13,-40,1],[-35,-44,1],[-49,-40,1]]\n",
       "[3,24,1]\n",
       "\n",
       "Passed:\n",
       "[[23,-49,1],[-14,-36,1],[-14,18,1],[-28,32,1],[51,32,1],[22,-18,1],[-9,-8,1],[-27,-42,1],[-14,29,1],[-7,3,1]]\n",
       "[10,-6,1]\n",
       "\n",
       "Passed:\n",
       "[[-51,6,1],[-9,-2,1],[20,16,1],[-24,-37,1],[23,-17,1],[-10,36,1],[-19,32,1],[-47,-20,1],[-34,30,1],[54,31,1]]\n",
       "[45,-39,1]\n",
       "\n",
       "Passed:\n",
       "[[1,-12,1],[-15,-39,1],[42,-3,1],[-33,38,1],[23,-40,1],[-53,49,1],[-42,43,1],[-22,43,1],[-56,57,1],[-3,-40,1]]\n",
       "[12,50,1]\n",
       "\n",
       "Passed:\n",
       "[[-56,56,1],[-41,47,1],[-46,52,1],[52,-32,1],[-48,48,1],[-56,-29,1],[-8,10,1],[51,-26,1],[-26,45,1],[54,-3,1]]\n",
       "[53,32,1]\n",
       "\n",
       "Passed:\n",
       "[[-31,-9,1],[47,4,1],[43,24,1],[38,47,1],[35,25,1],[25,-33,1],[54,24,1],[20,-42,1],[-19,54,1],[45,-57,1]]\n",
       "[2,-39,1]\n",
       "\n",
       "Passed:\n",
       "[[26,-54,1],[26,24,1],[-44,19,1],[8,58,1],[-42,-47,1],[46,-23,1],[-40,42,1],[-32,-18,1],[-55,49,1],[-7,3,1]]\n",
       "[-42,60,1]\n",
       "\n",
       "Passed:\n",
       "[[-61,60,1],[-31,43,1],[25,-2,1],[35,29,1],[-14,27,1],[48,-19,1],[18,13,1],[10,-19,1],[34,-9,1],[-5,37,1]]\n",
       "[-37,31,1]\n",
       "\n",
       "Passed:\n",
       "[[-15,48,1],[47,2,1],[-37,61,1],[-26,24,1],[-8,-40,1],[57,-53,1],[-42,11,1],[-37,47,1],[8,39,1],[-31,38,1]]\n",
       "[45,-52,1]\n",
       "\n",
       "Passed:\n",
       "[[-29,-21,1],[-12,21,1],[-44,1,1],[-9,54,1],[43,44,1],[30,33,1],[-3,33,1],[-55,36,1],[12,-3,1],[-14,11,1]]\n",
       "[-50,-24,1]\n",
       "\n",
       "Passed:\n",
       "[[13,-34,1],[6,29,1],[33,-40,1],[-53,62,1],[-59,-21,1],[-58,52,1],[-61,-1,1],[-16,-8,1],[-19,38,1],[16,-9,1]]\n",
       "[1,53,1]\n",
       "\n",
       "Passed:\n",
       "[[30,64,1],[-65,-57,1],[-28,-4,1],[-10,-32,1],[49,16,1],[14,-24,1],[-30,-60,1],[55,55,1],[23,38,1],[54,25,1]]\n",
       "[-14,0,1]\n",
       "\n",
       "Passed:\n",
       "[[3,45,1],[38,53,1],[-50,-6,1],[-38,35,1],[-11,53,1],[21,-41,1],[-57,57,1],[-58,-31,1],[66,-11,1],[48,-44,1]]\n",
       "[-24,6,1]\n",
       "\n",
       "Passed:\n",
       "[[-15,-54,1],[-27,-13,1],[34,66,1],[30,-5,1],[23,-35,1],[-22,67,1],[-5,3,1],[13,-29,1],[41,35,1],[-47,-51,1]]\n",
       "[-36,-28,1]\n",
       "\n",
       "Passed:\n",
       "[[-41,65,1],[-19,-68,1],[62,63,1],[50,-59,1],[47,-8,1],[50,-40,1],[11,-60,1],[-54,18,1],[47,11,1],[-55,-2,1]]\n",
       "[-66,-40,1]\n",
       "\n",
       "Passed:\n",
       "[[-68,34,1],[-8,8,1],[-14,-18,1],[-40,2,1],[-59,-33,1],[7,-4,1],[-11,46,1],[-34,-33,1],[65,-38,1],[10,43,1]]\n",
       "[19,-62,1]\n",
       "\n",
       "Passed:\n",
       "[[54,-37,1],[23,44,1],[-13,-62,1],[53,-40,1],[56,-21,1],[29,34,1],[-26,66,1],[69,44,1],[67,-29,1],[8,54,1]]\n",
       "[-43,60,1]\n",
       "\n",
       "Passed:\n",
       "[[22,1,1],[1,-14,1],[-68,-41,1],[15,-47,1],[7,-42,1],[11,65,1],[69,15,1],[54,69,1],[-5,-55,1],[68,-19,1]]\n",
       "[9,-43,1]\n",
       "\n",
       "Passed:\n",
       "[[20,59,1],[68,-53,1],[-57,-34,1],[17,17,1],[-70,22,1],[-3,33,1],[-53,49,1],[18,-68,1],[46,26,1],[-17,32,1]]\n",
       "[45,-14,1]\n",
       "\n",
       "Passed:\n",
       "[[-59,6,1],[64,52,1],[-14,50,1],[45,54,1],[45,-21,1],[27,-72,1],[-12,-25,1],[47,33,1],[-5,-28,1],[-42,68,1]]\n",
       "[25,-45,1]\n",
       "\n",
       "Passed:\n",
       "[[-25,-71,1],[11,-59,1],[-63,-2,1],[-4,61,1],[13,-56,1],[5,-28,1],[68,-36,1],[-59,58,1],[-10,15,1],[5,32,1]]\n",
       "[-47,74,1]\n",
       "\n",
       "Passed:\n",
       "[[-75,-26,1],[-29,44,1],[59,-32,1],[63,-8,1],[-3,1,1],[-71,75,1],[-30,-52,1],[-58,22,1],[0,-68,1],[-58,-10,1]]\n",
       "[-7,-51,1]\n",
       "\n",
       "Passed:\n",
       "[[53,51,1],[10,47,1],[-37,61,1],[-38,29,1],[37,67,1],[28,53,1],[-51,9,1],[2,-23,1],[74,-7,1],[-9,52,1]]\n",
       "[-12,-11,1]\n",
       "\n",
       "Passed:\n",
       "[[73,18,1],[16,-5,1],[-4,9,1],[-16,-59,1],[6,-57,1],[-68,2,1],[29,-5,1],[-4,52,1],[-76,68,1],[35,12,1]]\n",
       "[-67,-27,1]\n",
       "\n",
       "Passed:\n",
       "[[-19,-6,1],[-5,73,1],[47,-34,1],[-61,-41,1],[-29,42,1],[33,-7,1],[59,74,1],[12,-48,1],[65,-4,1],[78,-40,1]]\n",
       "[36,-12,1]\n",
       "\n",
       "Passed:\n",
       "[[33,15,1],[-21,57,1],[-9,-57,1],[11,-43,1],[-15,-46,1],[-70,25,1],[-45,10,1],[-16,35,1],[17,15,1],[52,66,1]]\n",
       "[-35,20,1]\n",
       "\n",
       "Passed:\n",
       "[[-19,10,1],[14,-47,1],[76,20,1],[22,-2,1],[-49,-6,1],[-16,-46,1],[36,18,1],[-25,44,1],[-13,51,1],[24,8,1]]\n",
       "[-25,35,1]\n",
       "\n",
       "Passed:\n",
       "[[-11,-57,1],[32,56,1],[50,-64,1],[67,-64,1],[19,21,1],[35,19,1],[-77,-3,1],[31,71,1],[-77,41,1],[-67,10,1]]\n",
       "[-15,14,1]\n",
       "\n",
       "Passed:\n",
       "[[49,14,1],[-16,13,1],[-32,20,1],[-49,52,1],[-63,3,1],[0,2,1],[12,-21,1],[-11,63,1],[29,-1,1],[-41,67,1]]\n",
       "[56,71,1]\n",
       "\n",
       "Passed:\n",
       "[[65,24,1],[-54,-4,1],[21,-80,1],[81,-65,1],[-4,-28,1],[-52,38,1],[-78,46,1],[80,47,1],[3,-36,1],[51,-63,1]]\n",
       "[-1,4,1]\n",
       "\n",
       "Passed:\n",
       "[[72,-53,1],[-34,-16,1],[-57,31,1],[84,57,1],[27,35,1],[13,-3,1],[-4,56,1],[20,-7,1],[59,58,1],[52,42,1]]\n",
       "[20,8,1]\n",
       "\n",
       "Passed:\n",
       "[[75,23,1],[79,44,1],[-14,-67,1],[-2,-44,1],[10,-9,1],[-74,-70,1],[-66,68,1],[54,17,1],[-7,2,1],[-82,-14,1]]\n",
       "[-6,28,1]\n",
       "\n",
       "Passed:\n",
       "[[45,39,1],[-66,48,1],[-71,-51,1],[-65,22,1],[36,64,1],[-8,-33,1],[-10,71,1],[35,-59,1],[-78,-22,1],[-53,9,1]]\n",
       "[69,-3,1]\n",
       "\n",
       "Passed:\n",
       "[[24,1,1],[28,76,1],[-59,71,1],[29,-62,1],[-1,33,1],[-77,73,1],[47,48,1],[56,77,1],[38,-85,1],[-53,-51,1]]\n",
       "[-67,-47,1]\n",
       "\n",
       "Passed:\n",
       "[[-70,-43,1],[14,26,1],[35,4,1],[27,71,1],[-80,48,1],[8,25,1],[12,-9,1],[-83,-81,1],[-34,45,1],[-67,-38,1]]\n",
       "[-55,62,1]\n",
       "\n",
       "Passed:\n",
       "[[46,-15,1],[-5,-41,1],[-10,25,1],[42,68,1],[16,-10,1],[-42,-58,1],[16,-75,1],[87,44,1],[-58,43,1],[38,42,1]]\n",
       "[24,-7,1]\n",
       "\n",
       "Passed:\n",
       "[[-62,60,1],[56,21,1],[-5,77,1],[46,-33,1],[58,0,1],[-27,-22,1],[32,58,1],[76,-63,1],[-66,85,1],[-48,11,1]]\n",
       "[-55,59,1]\n",
       "\n",
       "Passed:\n",
       "[[-13,57,1],[-85,-29,1],[7,46,1],[14,30,1],[-77,-57,1],[-64,-80,1],[76,86,1],[-78,63,1],[10,-72,1],[-49,26,1]]\n",
       "[15,44,1]\n",
       "\n",
       "Passed:\n",
       "[[-72,-18,1],[-28,87,1],[68,1,1],[72,-11,1],[-84,-68,1],[65,47,1],[55,82,1],[30,74,1],[-37,11,1],[70,-33,1]]\n",
       "[-58,-21,1]\n",
       "\n",
       "Passed:\n",
       "[[62,-30,1],[-73,-25,1],[89,40,1],[-31,42,1],[-35,6,1],[48,-38,1],[7,-61,1],[55,19,1],[52,-85,1],[83,-45,1]]\n",
       "[-78,-58,1]\n",
       "\n",
       "Passed:\n",
       "[[66,-67,1],[60,63,1],[-80,-10,1],[52,3,1],[87,38,1],[83,28,1],[89,16,1],[58,36,1],[-81,2,1],[-6,28,1]]\n",
       "[-25,-62,1]\n",
       "\n",
       "Passed:\n",
       "[[5,73,1],[93,-92,1],[-10,89,1],[66,89,1],[71,-40,1],[-90,6,1],[82,20,1],[-68,-8,1],[-82,-24,1],[27,-13,1]]\n",
       "[-79,-42,1]\n",
       "\n",
       "Passed:\n",
       "[[53,-74,1],[54,28,1],[75,46,1],[88,42,1],[23,31,1],[-90,-14,1],[-23,35,1],[-84,2,1],[59,16,1],[-53,13,1]]\n",
       "[-49,-91,1]\n",
       "\n",
       "Passed:\n",
       "[[58,91,1],[44,-83,1],[64,63,1],[-71,47,1],[-91,47,1],[-38,16,1],[-96,94,1],[30,-1,1],[-43,52,1],[-79,16,1]]\n",
       "[96,-84,1]\n",
       "\n",
       "Passed:\n",
       "[[-17,-37,1],[-45,91,1],[-13,36,1],[-24,-16,1],[-62,-3,1],[92,-61,1],[-37,86,1],[67,-7,1],[54,48,1],[-64,-21,1]]\n",
       "[23,-92,1]\n",
       "\n",
       "Passed:\n",
       "[[-88,-43,1],[-95,-64,1],[16,6,1],[-76,-60,1],[73,-9,1],[-66,-91,1],[34,-61,1],[-98,-7,1],[72,84,1],[-4,70,1]]\n",
       "[-92,-17,1]\n",
       "\n",
       "+++ OK, passed 100 tests."
      ]
     },
     "metadata": {},
     "output_type": "display_data"
    }
   ],
   "source": [
    "verboseCheck (prop_Hull 2 10)"
   ]
  },
  {
   "cell_type": "code",
   "execution_count": 25,
   "metadata": {},
   "outputs": [
    {
     "ename": "",
     "evalue": "",
     "output_type": "error",
     "traceback": [
      "<interactive>:2:12: error:\n    • Couldn't match type ‘Gen [[Integer]]’ with ‘Control.Monad.Trans.State.Lazy.StateT (Layout () ()) (Control.Monad.Trans.State.Lazy.State CState) (p0 () ())’\n      Expected type: EC (Layout () ()) (p0 () ())\n        Actual type: Gen [[Integer]]\n    • In the second argument of ‘($)’, namely ‘points \"Konvexe Hülle\" [(x, y) | [x, y, _] <- convexHull]’\n      In a stmt of a 'do' block: plot $ points \"Konvexe Hülle\" [(x, y) | [x, y, _] <- convexHull]\n      In the second argument of ‘($)’, namely\n        ‘do plot $ points \"Konvexe Hülle\" [(x, y) | [x, y, _] <- convexHull]\n            plot $ points \"Testpunkt\" [(x, y) | [x, y, _] <- [pt]]’\n<interactive>:2:19: error:\n    • Couldn't match expected type ‘Int’ with actual type ‘String’\n    • In the first argument of ‘points’, namely ‘\"Konvexe Hülle\"’\n      In the second argument of ‘($)’, namely ‘points \"Konvexe Hülle\" [(x, y) | [x, y, _] <- convexHull]’\n      In a stmt of a 'do' block: plot $ points \"Konvexe Hülle\" [(x, y) | [x, y, _] <- convexHull]\n<interactive>:2:35: error:\n    • Couldn't match expected type ‘Int’ with actual type ‘[(Integer, Integer)]’\n    • In the second argument of ‘points’, namely ‘[(x, y) | [x, y, _] <- convexHull]’\n      In the second argument of ‘($)’, namely ‘points \"Konvexe Hülle\" [(x, y) | [x, y, _] <- convexHull]’\n      In a stmt of a 'do' block: plot $ points \"Konvexe Hülle\" [(x, y) | [x, y, _] <- convexHull]\n<interactive>:3:12: error:\n    • Couldn't match type ‘Gen [[Integer]]’ with ‘Control.Monad.Trans.State.Lazy.StateT (Layout () ()) (Control.Monad.Trans.State.Lazy.State CState) (p1 () ())’\n      Expected type: EC (Layout () ()) (p1 () ())\n        Actual type: Gen [[Integer]]\n    • In the second argument of ‘($)’, namely ‘points \"Testpunkt\" [(x, y) | [x, y, _] <- [pt]]’\n      In a stmt of a 'do' block: plot $ points \"Testpunkt\" [(x, y) | [x, y, _] <- [pt]]\n      In the second argument of ‘($)’, namely\n        ‘do plot $ points \"Konvexe Hülle\" [(x, y) | [x, y, _] <- convexHull]\n            plot $ points \"Testpunkt\" [(x, y) | [x, y, _] <- [pt]]’\n<interactive>:3:19: error:\n    • Couldn't match expected type ‘Int’ with actual type ‘String’\n    • In the first argument of ‘points’, namely ‘\"Testpunkt\"’\n      In the second argument of ‘($)’, namely ‘points \"Testpunkt\" [(x, y) | [x, y, _] <- [pt]]’\n      In a stmt of a 'do' block: plot $ points \"Testpunkt\" [(x, y) | [x, y, _] <- [pt]]\n<interactive>:3:31: error:\n    • Couldn't match expected type ‘Int’ with actual type ‘[(Integer, Integer)]’\n    • In the second argument of ‘points’, namely ‘[(x, y) | [x, y, _] <- [pt]]’\n      In the second argument of ‘($)’, namely ‘points \"Testpunkt\" [(x, y) | [x, y, _] <- [pt]]’\n      In a stmt of a 'do' block: plot $ points \"Testpunkt\" [(x, y) | [x, y, _] <- [pt]]"
     ]
    }
   ],
   "source": [
    "import Graphics.Rendering.Chart.Easy\n",
    "\n",
    "convexHull = [[-15,15,1],[16,17,1],[-9,11,1],[-3,-20,1],[-17,3,1],[2,20,1],[16,-3,1],[10,-17,1],[-7,-18,1],[-17,20,1]]\n",
    "\n",
    "pt = [-5,16,1]\n",
    "\n",
    "toRenderable $ do\n",
    "    plot $ points \"Konvexe Hülle\" [(x,y) | [x,y,_] <- convexHull]\n",
    "    plot $ points \"Testpunkt\" [(x,y) | [x,y,_] <- [pt]]"
   ]
  },
  {
   "cell_type": "code",
   "execution_count": 20,
   "metadata": {},
   "outputs": [
    {
     "data": {
      "text/plain": [
       "True"
      ]
     },
     "metadata": {},
     "output_type": "display_data"
    }
   ],
   "source": [
    "insideCH convexHull pt"
   ]
  },
  {
   "cell_type": "code",
   "execution_count": 21,
   "metadata": {},
   "outputs": [
    {
     "data": {
      "text/plain": [
       "True"
      ]
     },
     "metadata": {},
     "output_type": "display_data"
    }
   ],
   "source": [
    "insideCH' convexHull pt"
   ]
  },
  {
   "cell_type": "code",
   "execution_count": 22,
   "metadata": {},
   "outputs": [
    {
     "data": {
      "text/plain": [
       "True"
      ]
     },
     "metadata": {},
     "output_type": "display_data"
    }
   ],
   "source": [
    "insideCH'' convexHull pt"
   ]
  },
  {
   "cell_type": "code",
   "execution_count": null,
   "metadata": {},
   "outputs": [],
   "source": []
  }
 ],
 "metadata": {
  "kernelspec": {
   "display_name": "Haskell",
   "language": "haskell",
   "name": "haskell"
  },
  "language_info": {
   "codemirror_mode": "ihaskell",
   "file_extension": ".hs",
   "name": "haskell",
   "pygments_lexer": "Haskell",
   "version": "8.6.5"
  }
 },
 "nbformat": 4,
 "nbformat_minor": 4
}
