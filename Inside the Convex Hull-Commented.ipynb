{
 "cells": [
  {
   "cell_type": "markdown",
   "metadata": {},
   "source": [
    "# Theoretischer Hintergrund\n",
    "\n",
    "Wir betrachten eine Teilmenge $Q(d)$ des $d$-dimensionalen Euklidischen Raums $E(d)$, bestehend aus den Punkten, deren Kartesische Koordinaten rationale Zahlen sind. \n",
    "\n",
    "Ein Punkt in $Q(d)$ kann als Liste von $d+1$ ganzen Zahlen $[x_0, x_1, . . . , x_d ]$ mit $x_d \\neq 0$, dargestellt werden (homogene Koordinaten). \n",
    "Diese Liste repräsentiert die $d$ rationalen Kartesischen Koordinaten $[x_0/x_d , x_1/x_d , . . . , x_{d−1}/xd]$\n",
    ".\n",
    "\n",
    "Ein Punkt in $Q(d)$ ist eine Liste von ganzen Zahlen:\n",
    "```Haskell\n",
    "type Point = [Integer]\n",
    "```\n",
    "\n",
    "## Simplex\n",
    "Ein $d$-Simplex ist die Verallgemeinerung eines Dreiecks in $d$-Dimensionen.\n",
    "![Simplex](img/simplex.PNG)\n",
    "Ein $d$-Simplex kann als Liste von $d+1$ Punkten in $Q(d)$ und einem Wert $+1$ oder $-1$, der die Orientierung des Simplex angibt, repräsentiert werden:\n",
    "```Haskell\n",
    "\n",
    "type Simplex = ([Point], Int)\n",
    "```\n",
    "\n",
    "## Konvexe Menge\n",
    "Jedes $d$-Simplex $smp$ bestimmt eine konvexe Menge $CS(smp)$ in $Q(d)$. \n",
    "\n",
    "Eine Teilmenge des euklidischen Raums (geometrische Figur) ist konvex, wenn für je zwei beliebige Punkte, die zur Menge gehören, auch stets deren Verbindungsstrecke ganz in der Menge liegt\n",
    "![konvexe Menge](img/cm1.PNG)\n",
    "\n",
    "Der Bereich enthält die Punkte innerhalb von $smp$ und auf dessen Grenze.\n",
    "\n",
    "Um zu bestimmen ob ein Punkt innerhalb oder auf $CS(smp)$ liegt, müssen die Facetten von $smp$ berechnet werden.\n",
    "\n",
    "## Facette\n",
    "Die Facette eines $d$-Simplex kann als Liste von $d$ Punkten und einer dazugehörigen Orientierung (abgeleitet von dem Simplex), dargestellt werden. \n",
    "Beispielsweise sind die Facetten einer Kante ihre zwei Endpunkte, die Facetten eines Dreiecks sind ihre drei Kanten.\n",
    "\n",
    "```Haskell\n",
    "\n",
    "type Facet = ([Point], Int).\n",
    "```\n",
    "\n",
    "### Beispiel\n",
    "Ein Dreieck $[a,b,c]$ mit positiver Orientierung im $Q(2)$ hat drei Facetten $([b, c], +1)$, $([a, c],−1)$, $([a, b], +1)$. \n",
    "Ein Punkt $p$ befindet sich innerhalb von $[a,b,c]$, wenn die drei Simplexe $ [p, b, c]$, $[p, a, c]$ und $[p, a, b]$ die Orientierungen $+1$, $−1$ und $+1$ haben. \n",
    "\n",
    "Implikation:\n",
    "- $p$ befindet sich links von der Kante $b$ nach $c$\n",
    "- $p$ befindet sich rechts von der Kante $a$ nach $c$\n",
    "- $p$ befindet sich links von der Kante $a$ nach $b$\n",
    "\n",
    "![Triangle](img/triangle1.PNG)\n",
    "\n",
    "## Konvexe Hülle\n",
    "Die konvexe Hülle $CH(vs)$ einer Punktmenge $vs$ in $Q(d)$ entspricht einem Bereich in $Q(d)$ und kann wie folgt definiert werden:\n",
    "- $CH(vs)$ ist die Vereinigung der Mengen $CS(smp)$ für alle $d$-Simplexe $smp$ bestimmt durch Punkte von $vs$\n",
    "\n",
    "In $Q(2)$ bestimmt sich die konvexe Hülle von $vs$ durch die Vereinigungsmenge der Bereiche, die durch alle Dreiecke deren Eckpunkte innerhalb von $vs$ liegen. \n",
    "\n",
    "Die Menge $CH(vs)$ lässt sich dementsprechend durch folgendes Prädikat charakterisieren:\n",
    "```Haskell\n",
    "\n",
    "insideCH :: [Point] -> Point -> Bool\n",
    "insideCH vs p = or [insideCS smp p | smp <- simplexes vs]\n",
    "```\n",
    "**Um die CH zu berechnen müssen wir schauen ob der Punkt in einer konvexen Menge liegt. Dafür müssen wir Simplexe aus unserer Punktmenge bilden**\n",
    "\n",
    "![Konvexe Hülle](img/ch.PNG)\n",
    "Das Bild zeigt die konvexe Hülle von Punkten in der Ebene. Sie besteht aus dem schwarz umrandeten Gebiet (inklusive Rand)."
   ]
  },
  {
   "cell_type": "markdown",
   "metadata": {},
   "source": [
    "## Hürden\n",
    "- `tuples` Funktion muss selbst implementiert werden\n",
    "- Bug in `op :: Facet -> [Facet] -> [Facet]`:\n",
    "    - Das Problem: `op smp [] = []`\n",
    "    - Lösung: `op smp [] = [smp]`\n",
    "- QuickCheck infinite Loop\n",
    "    - Das Problem: `points d (n + 1) = do {p <- point d; ps <- points d n; return (p : ps)}`\n",
    "    - Lösung: `points d n  = do { p <- point d; ps <- points d (n-1); return (p:ps) }` (statt vorne n + 1 nur das n übergeben und hinten 1 abziehen)\n",
    "- Bug in `partition` Funktion:\n",
    "     - Das Problem: `Just [smp] -> foldl update [smp] (vs \\\\ vertices smp)`\n",
    "     - Lösung: `Just smp -> foldl update [smp] (vs \\\\ vertices smp)`"
   ]
  },
  {
   "cell_type": "markdown",
   "metadata": {},
   "source": [
    "# Determinante\n",
    "Die Determinantenberechnungen stammen aus aus der \"Functional Pearl: Three ways of computing determinants\"."
   ]
  },
  {
   "cell_type": "code",
   "execution_count": null,
   "metadata": {},
   "outputs": [],
   "source": [
    "-- Die Unterdeterminanten\n",
    "minors :: [a] -> [[a]]\n",
    "minors [ ] = [ ]\n",
    "minors (x : xs) = xs : map (x :) (minors xs)"
   ]
  },
  {
   "cell_type": "code",
   "execution_count": null,
   "metadata": {},
   "outputs": [],
   "source": [
    "minors \"abcd\""
   ]
  },
  {
   "cell_type": "code",
   "execution_count": null,
   "metadata": {},
   "outputs": [],
   "source": [
    "det :: [[Integer]] -> Integer\n",
    "det [[x ]] = x\n",
    "det xss = foldr1 (-) (zipWith (*) col1 (map det (minors cols)))\n",
    "          where col1 = map head xss\n",
    "                cols = map tail xss"
   ]
  },
  {
   "cell_type": "code",
   "execution_count": null,
   "metadata": {},
   "outputs": [],
   "source": [
    "matrix = [[2,2,1],[9,2,5],[3,7,3]]\n",
    "det matrix"
   ]
  },
  {
   "cell_type": "code",
   "execution_count": null,
   "metadata": {},
   "outputs": [],
   "source": [
    "-- A more fancy Determinant calculation based on Integer Division\n",
    "det :: [[Integer]] -> Integer\n",
    "det [[x]] = x\n",
    "det xss =\n",
    "  case break ((/= 0) . head) xss of\n",
    "   (yss, [ ]) -> 0\n",
    "   (yss, zs : zss) -> let x = det(condense(zs : yss ++ zss))\n",
    "                          d = head zs ^ (length xss - 2)\n",
    "                          y = x `div` d\n",
    "                      in if even (length yss) then y else -y\n",
    "\n",
    "condense = map (map det . pair . uncurry zip) . pair\n",
    "           where pair (x : xs) = map ((, ) x ) xs\n",
    "                 det ((a, b), (c, d)) = a * d - b * c"
   ]
  },
  {
   "cell_type": "code",
   "execution_count": null,
   "metadata": {},
   "outputs": [],
   "source": [
    "matrix = [[2,2,1],[9,2,5],[3,7,3]]\n",
    "det matrix"
   ]
  },
  {
   "cell_type": "markdown",
   "metadata": {},
   "source": [
    "# Konvexe Hülle"
   ]
  },
  {
   "cell_type": "code",
   "execution_count": null,
   "metadata": {},
   "outputs": [],
   "source": [
    "import Data.List  "
   ]
  },
  {
   "cell_type": "code",
   "execution_count": null,
   "metadata": {},
   "outputs": [],
   "source": [
    "-- Type synonym (basically just an alias)\n",
    "type Point = [Integer]\n",
    "type Facet = ([Point], Int)\n",
    "type Simplex = ([Point], Int)"
   ]
  },
  {
   "cell_type": "code",
   "execution_count": null,
   "metadata": {},
   "outputs": [],
   "source": [
    "dimension :: Point -> Int\n",
    "dimension ps = length ps - 1\n",
    "\n",
    "orientation :: [Point] -> Int\n",
    "orientation = fromIntegral . signum . det"
   ]
  },
  {
   "cell_type": "code",
   "execution_count": null,
   "metadata": {},
   "outputs": [],
   "source": [
    "facets :: Simplex -> [Facet]\n",
    "facets (us, b) = zip (minors us) (cycle [b, -b])\n",
    "\n",
    "minors :: [a] -> [[a]]\n",
    "minors [] = []\n",
    "minors (x : xs) = xs : map (x :) (minors xs)"
   ]
  },
  {
   "cell_type": "code",
   "execution_count": null,
   "metadata": {},
   "outputs": [],
   "source": [
    "insideCS :: Simplex -> Point -> Bool\n",
    "-- The generator (us, b) <- facets smp feeds each Facet in turn to the left-hand expression\n",
    "insideCS smp p = and [0 <= b * orientation (p : us) | (us, b) <- facets smp]"
   ]
  },
  {
   "cell_type": "code",
   "execution_count": null,
   "metadata": {},
   "outputs": [],
   "source": [
    "-- The value of tuples n vs is a list of all n-tuples of vs; that is, all subsequences\n",
    "-- of vs of length n. The definition of tuples is left as an exercise.\n",
    "tuples' :: Int -> [a] -> [[a]]\n",
    "tuples' n vs = filter (\\x -> length x == n) (subsequences vs)"
   ]
  },
  {
   "cell_type": "code",
   "execution_count": null,
   "metadata": {},
   "outputs": [],
   "source": [
    "tuples :: Int -> [a] -> [[a]]\n",
    "tuples n = filter ((==n) . length) . subsequences\n",
    "\n",
    "tuples 2 [[1,2], [3,4], [5,6], [7,8]]"
   ]
  },
  {
   "cell_type": "code",
   "execution_count": null,
   "metadata": {},
   "outputs": [],
   "source": [
    "insideCH :: [Point] -> Point -> Bool\n",
    "insideCH vs p = or [insideCS smp p | smp <- simplexes vs]\n",
    "\n",
    "simplexes :: [Point] -> [Simplex]\n",
    "simplexes vs = [(us, b) | us <- tuples (d + 1) vs,\n",
    "                          let b = orientation us, b /= 0]\n",
    "               where d = dimension (head vs)"
   ]
  },
  {
   "cell_type": "code",
   "execution_count": null,
   "metadata": {},
   "outputs": [],
   "source": [
    "insideCH :: [Point] -> Point -> Bool\n",
    "insideCH vs p = if null smps\n",
    "                then False\n",
    "                else or [insideCS smp p | smp <- smps]\n",
    "                where smps = simplexes vs\n",
    "\n",
    "simplexes :: [Point] -> [Simplex]\n",
    "simplexes vs = [(us, b) | us <- tuples (d + 1) vs,\n",
    "                          let b = orientation us, b /= 0]\n",
    "               where d = dimension (head vs)"
   ]
  },
  {
   "cell_type": "code",
   "execution_count": null,
   "metadata": {},
   "outputs": [],
   "source": [
    "-- The vertices of a simplex are listed by:\n",
    "vertices :: Simplex -> [Point]\n",
    "vertices = sort . fst\n",
    "\n",
    "-- fst = erstes Element in einem Tuple\n",
    "-- sort sortiert die Liste der Punkte im Simplex\n",
    "\n",
    "-- z.B: \n",
    "-- Input:     vertices ([[-10,4], [10,2], [3,3], [1,1]], 1)\n",
    "-- Output: [[-10,4],[1,1],[3,3],[10,2]]\n",
    "\n",
    "-- --> Das ist im Endeffekt nur eine Methode aus dem \n",
    "-- Tuple eine sortierte Liste der Punkte zu extrahieren und die Orientierung wegzuwerfen"
   ]
  },
  {
   "cell_type": "markdown",
   "metadata": {},
   "source": [
    "## Find a Simplex"
   ]
  },
  {
   "cell_type": "code",
   "execution_count": null,
   "metadata": {},
   "outputs": [],
   "source": [
    "-- The inefficient variant\n",
    "-- findSimplex vs = if null smps then Nothing else Just (head smps)\n",
    "--                  where smps = simplexes vs"
   ]
  },
  {
   "cell_type": "code",
   "execution_count": null,
   "metadata": {},
   "outputs": [],
   "source": [
    "submatrices k vs = map (++[last vs]) (tuples k (init vs))\n",
    "degenerate k = all (==0) . map det . submatrices k . transpose"
   ]
  },
  {
   "cell_type": "code",
   "execution_count": null,
   "metadata": {},
   "outputs": [],
   "source": [
    "-- The more efficient variant\n",
    "-- TODO: Why is this more efficient???\n",
    "findSimplex :: [Point] -> Maybe Simplex\n",
    "findSimplex [] = Nothing\n",
    "findSimplex (v : vs) = search (length v - 1) 1 [v] vs\n",
    "\n",
    "search d k us vs\n",
    "  | k == d + 1 = Just (us, orientation us)\n",
    "  | null vs = Nothing\n",
    "  | degenerate k (v : us) = search d k us (tail vs)\n",
    "  | otherwise = search d (k + 1) (v : us) (tail vs)\n",
    "    where v = head vs\n"
   ]
  },
  {
   "cell_type": "markdown",
   "metadata": {},
   "source": [
    "## Update"
   ]
  },
  {
   "cell_type": "code",
   "execution_count": null,
   "metadata": {},
   "outputs": [],
   "source": [
    "external :: [Simplex] -> [Facet]\n",
    "external = foldr op [] . sort . concatMap facets\n",
    "\n",
    "-- Originalversion mit Bug\n",
    "-- op smp [] = []\n",
    "-- op smp (smp' : smps) = if vertices smp == vertices smp' then smps\n",
    "--                        else smp : smp' : smps\n",
    "                       \n",
    "op :: Facet -> [Facet] -> [Facet]\n",
    "op smp []     = [smp]  -- bug fixed\n",
    "op smp (smp' : smps) = if vertices smp == vertices smp' then smps \n",
    "                       else smp : smp' : smps"
   ]
  },
  {
   "cell_type": "code",
   "execution_count": null,
   "metadata": {},
   "outputs": [],
   "source": [
    "visible :: Point -> [Facet] -> [Facet]\n",
    "visible v fs = [(us, b) | (us, b) <- fs, b * orientation (v : us) < 0]"
   ]
  },
  {
   "cell_type": "code",
   "execution_count": null,
   "metadata": {},
   "outputs": [],
   "source": [
    "newSimplex :: Point -> Facet -> Simplex\n",
    "newSimplex v (us, b) = (v : us, -b)"
   ]
  },
  {
   "cell_type": "code",
   "execution_count": null,
   "metadata": {},
   "outputs": [],
   "source": [
    "update :: [Simplex] -> Point -> [Simplex]\n",
    "update smps v = smps ++ map (newSimplex v) (visible v (external smps))"
   ]
  },
  {
   "cell_type": "markdown",
   "metadata": {},
   "source": [
    "## Incremental Algorithm"
   ]
  },
  {
   "cell_type": "code",
   "execution_count": null,
   "metadata": {},
   "outputs": [],
   "source": [
    "insideCH' :: [Point] -> Point -> Bool\n",
    "insideCH' vs p = or [insideCS smp p | smp <- partition vs] \n",
    "\n",
    "partition :: [Point] -> [Simplex]\n",
    "partition vs\n",
    "    = case findSimplex vs of\n",
    "        Nothing -> []\n",
    "        Just smp -> foldl update [smp] (vs \\\\ vertices smp)\n",
    "        -- Laut Paper: Just [smp] -> foldl update [smp] (vs \\\\ vertices smp)\n",
    "        \n",
    "-- Der \\\\ Operator bildet die Listendifferenz z.B.:\n",
    "-- Input: [1,2,3,4] \\\\ [2,3]\n",
    "-- Output: [1,4]\n",
    "\n",
    "-- foldl nimm das zweite Argument und ein Element der Liste und wendet die jeweilige Funktion an hier: (/)\n",
    "-- Input: foldl (/) 64 [4,2,4]\n",
    "-- Output: 2.0"
   ]
  },
  {
   "cell_type": "markdown",
   "metadata": {},
   "source": [
    "## Test"
   ]
  },
  {
   "cell_type": "code",
   "execution_count": null,
   "metadata": {},
   "outputs": [],
   "source": [
    "pts = [[2, 4, 1],\n",
    "       [4, 7, 1],\n",
    "       [2, 2, 1],\n",
    "       [9, 6, 1],\n",
    "       [1, 9, 1],\n",
    "       [5, 7, 1],\n",
    "       [0, 9, 1],\n",
    "       [5, 1, 1],\n",
    "       [0, 2, 1],\n",
    "       [8, 4, 1],\n",
    "       [6, 6, 1],\n",
    "       [3, 6, 1],\n",
    "       [1, 9, 1],\n",
    "       [0, 5, 1],\n",
    "       [0, 3, 1],\n",
    "       [9, 4, 1],\n",
    "       [9, 5, 1],\n",
    "       [6, 0, 1],\n",
    "       [6, 7, 1],\n",
    "       [3, 6, 1],\n",
    "       [6, 8, 1],\n",
    "       [1, 0, 1],\n",
    "       [7, 8, 1],\n",
    "       [9, 6, 1],\n",
    "       [6, 9, 1],\n",
    "       [2, 9, 1],\n",
    "       [8, 8, 1],\n",
    "       [6, 7, 1],\n",
    "       [9, 8, 1],\n",
    "       [0, 4, 1]]"
   ]
  },
  {
   "cell_type": "code",
   "execution_count": null,
   "metadata": {},
   "outputs": [],
   "source": [
    "testPts = [[5, 5, 1], [0, 1, 1], [1, 4, 1], [50, 50, 1]]\n",
    "\n",
    "r = map(\\x -> insideCH' pts x) testPts\n",
    "r"
   ]
  },
  {
   "cell_type": "code",
   "execution_count": null,
   "metadata": {},
   "outputs": [],
   "source": [
    "r = map(\\x -> insideCH pts x) testPts\n",
    "r"
   ]
  },
  {
   "cell_type": "code",
   "execution_count": null,
   "metadata": {},
   "outputs": [],
   "source": [
    "length r"
   ]
  },
  {
   "cell_type": "code",
   "execution_count": null,
   "metadata": {},
   "outputs": [],
   "source": [
    "filter (\\x -> x == True) r"
   ]
  },
  {
   "cell_type": "code",
   "execution_count": null,
   "metadata": {},
   "outputs": [],
   "source": [
    "filtermask f [] [] = []\n",
    "filtermask f (fm:rm) (fd:rd)\n",
    "  |f fm fd = fd:filtermask f rm rd\n",
    "  |otherwise = filtermask f rm rd"
   ]
  },
  {
   "cell_type": "code",
   "execution_count": null,
   "metadata": {},
   "outputs": [],
   "source": [
    "filtermask (\\m d -> m == True) r pts"
   ]
  },
  {
   "cell_type": "code",
   "execution_count": null,
   "metadata": {},
   "outputs": [],
   "source": [
    "testPts = [[10, 10], [1,1], [0,4], [50,50], [3,6], [-1, 5]]\n",
    "r = map(\\x -> insideCH' pts x) testPts\n",
    "r"
   ]
  },
  {
   "cell_type": "code",
   "execution_count": null,
   "metadata": {},
   "outputs": [],
   "source": [
    "-- Dont do this --> infinite loop\n",
    "-- insideCH pts [-20, -20]"
   ]
  },
  {
   "cell_type": "code",
   "execution_count": null,
   "metadata": {},
   "outputs": [],
   "source": []
  },
  {
   "cell_type": "code",
   "execution_count": null,
   "metadata": {},
   "outputs": [],
   "source": [
    "-- Collinear Points\n",
    "collinearPts = [[0,0,1],[0,0,1],[0,0,1],[-1,-1,1]]\n",
    "insideCH collinearPts [1,0,1]\n",
    "insideCH' collinearPts [1,0,1]"
   ]
  },
  {
   "cell_type": "markdown",
   "metadata": {},
   "source": [
    "## An Improvement"
   ]
  },
  {
   "cell_type": "code",
   "execution_count": null,
   "metadata": {},
   "outputs": [],
   "source": [
    "-- insideCH'' vs p = if null fs\n",
    "--     then False\n",
    "--    else and [0 <= b*orientation (p:us) | (us, b) <- fs]\n",
    "--    where fs = faces vs\n",
    " \n",
    " \n",
    "-- Bug fix: Here we have to call the faces function on vs\n",
    "insideCH'' vs p = not (null fs) && and [0 <= b * orientation (p : us) | (us, b) <- fs]\n",
    "                  where fs = faces vs\n",
    " \n",
    "-- Bug fix: Here we have to replace Just [smp] -> foldl update' (facets smp) (vs \\\\ vertices vs) by the below expression\n",
    "faces :: [Point] -> [Facet]\n",
    "faces vs = case findSimplex vs of\n",
    "           Nothing -> []\n",
    "           Just smp  -> foldl update' (facets smp) (vs \\\\ vertices smp)\n",
    " \n",
    "update' :: [Facet] -> Point -> [Facet]\n",
    "update' fs v = (fs \\\\ fs') ++ map (newFacet v) (external fs')\n",
    "               where fs' = visible v fs\n",
    " \n",
    "newFacet v (us, b) = (v:us, b)"
   ]
  },
  {
   "cell_type": "code",
   "execution_count": null,
   "metadata": {},
   "outputs": [],
   "source": [
    "-- external (update smps v) = update' (external smps) v"
   ]
  },
  {
   "cell_type": "markdown",
   "metadata": {},
   "source": [
    "## QuickCheck"
   ]
  },
  {
   "cell_type": "code",
   "execution_count": null,
   "metadata": {},
   "outputs": [],
   "source": [
    "import Test.QuickCheck"
   ]
  },
  {
   "cell_type": "code",
   "execution_count": null,
   "metadata": {},
   "outputs": [],
   "source": [
    "-- QuickCheck - working version\n",
    "point :: Int -> Gen [Integer]\n",
    "point d = do { xs <- vector d; return (xs ++ [1]) }\n",
    " \n",
    "points :: Int -> Int -> Gen [[Integer]]\n",
    "points d 0  = return []\n",
    "points d n  = do { p <- point d; ps <- points d (n-1); return (p:ps) }\n",
    " \n",
    "prop_Hull :: Int -> Int -> Property\n",
    "prop_Hull d n =\n",
    "    forAll (points d n) $ \\vs ->\n",
    "    forAll (point d) $ \\v ->\n",
    "    insideCH vs v == insideCH' vs v && insideCH vs v == insideCH'' vs v\n",
    " \n",
    "qc = quickCheck (prop_Hull 2 4)\n",
    "qc"
   ]
  },
  {
   "cell_type": "code",
   "execution_count": null,
   "metadata": {
    "scrolled": true
   },
   "outputs": [],
   "source": [
    "verboseCheck (prop_Hull 2 4)"
   ]
  },
  {
   "cell_type": "code",
   "execution_count": null,
   "metadata": {},
   "outputs": [],
   "source": []
  },
  {
   "cell_type": "code",
   "execution_count": null,
   "metadata": {},
   "outputs": [],
   "source": []
  }
 ],
 "metadata": {
  "kernelspec": {
   "display_name": "Haskell",
   "language": "haskell",
   "name": "haskell"
  },
  "language_info": {
   "codemirror_mode": "ihaskell",
   "file_extension": ".hs",
   "name": "haskell",
   "pygments_lexer": "Haskell",
   "version": "8.6.5"
  }
 },
 "nbformat": 4,
 "nbformat_minor": 4
}
