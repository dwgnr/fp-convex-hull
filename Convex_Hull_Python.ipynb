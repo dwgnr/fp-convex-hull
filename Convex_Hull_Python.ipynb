{
 "cells": [
  {
   "cell_type": "code",
   "execution_count": 2,
   "metadata": {},
   "outputs": [
    {
     "name": "stdout",
     "output_type": "stream",
     "text": [
      "3 x 5 array of ints between -10 and 10 exclusive\n",
      "[[10 -8  5]\n",
      " [ 2  7  2]\n",
      " [-9  8  5]\n",
      " [ 0  9  6]\n",
      " [ 7 -3 -9]\n",
      " [-6 -3  4]\n",
      " [ 3  5 -3]\n",
      " [ 1 -7  2]\n",
      " [ 1  0  2]\n",
      " [ 1 -7 -2]]\n"
     ]
    },
    {
     "name": "stderr",
     "output_type": "stream",
     "text": [
      "/home/dominik/.local/lib/python3.6/site-packages/ipykernel_launcher.py:4: DeprecationWarning: This function is deprecated. Please call randint(-10, 10 + 1) instead\n",
      "  after removing the cwd from sys.path.\n"
     ]
    }
   ],
   "source": [
    "import numpy\n",
    "\n",
    "print(\"3 x 5 array of ints between -10 and 10 exclusive\")\n",
    "newArray = numpy.random.random_integers(-10, 10, size=(10, 3))\n",
    "print(newArray)"
   ]
  },
  {
   "cell_type": "code",
   "execution_count": 3,
   "metadata": {},
   "outputs": [
    {
     "data": {
      "text/plain": [
       "array([[10, -8,  5],\n",
       "       [ 2,  7,  2],\n",
       "       [-9,  8,  5],\n",
       "       [ 0,  9,  6],\n",
       "       [ 7, -3, -9],\n",
       "       [-6, -3,  4],\n",
       "       [ 3,  5, -3],\n",
       "       [ 1, -7,  2],\n",
       "       [ 1,  0,  2],\n",
       "       [ 1, -7, -2]])"
      ]
     },
     "execution_count": 3,
     "metadata": {},
     "output_type": "execute_result"
    }
   ],
   "source": [
    "newArray"
   ]
  },
  {
   "cell_type": "code",
   "execution_count": null,
   "metadata": {},
   "outputs": [],
   "source": []
  },
  {
   "cell_type": "code",
   "execution_count": null,
   "metadata": {},
   "outputs": [],
   "source": []
  },
  {
   "cell_type": "code",
   "execution_count": null,
   "metadata": {},
   "outputs": [],
   "source": []
  },
  {
   "cell_type": "code",
   "execution_count": 11,
   "metadata": {},
   "outputs": [],
   "source": [
    "import numpy as np \n",
    "from scipy.spatial import ConvexHull, convex_hull_plot_2d\n",
    "points = np.random.randint(10, size=(30, 2))  # 30 random points in 2-D\n",
    "hull = ConvexHull(points)"
   ]
  },
  {
   "cell_type": "code",
   "execution_count": 12,
   "metadata": {},
   "outputs": [
    {
     "data": {
      "image/png": "[encoded data removed]",
      "text/plain": [
       "<Figure size 432x288 with 1 Axes>"
      ]
     },
     "metadata": {
      "needs_background": "light"
     },
     "output_type": "display_data"
    }
   ],
   "source": [
    "import matplotlib.pyplot as plt\n",
    "plt.plot(points[:,0], points[:,1], 'o')\n",
    "for simplex in hull.simplices:\n",
    "    plt.plot(points[simplex, 0], points[simplex, 1], 'k-')"
   ]
  },
  {
   "cell_type": "code",
   "execution_count": 13,
   "metadata": {},
   "outputs": [
    {
     "data": {
      "text/plain": [
       "array([[2, 4],\n",
       "       [4, 7],\n",
       "       [2, 2],\n",
       "       [9, 6],\n",
       "       [1, 9],\n",
       "       [5, 7],\n",
       "       [0, 9],\n",
       "       [5, 1],\n",
       "       [0, 2],\n",
       "       [8, 4],\n",
       "       [6, 6],\n",
       "       [3, 6],\n",
       "       [1, 9],\n",
       "       [0, 5],\n",
       "       [0, 3],\n",
       "       [9, 4],\n",
       "       [9, 5],\n",
       "       [6, 0],\n",
       "       [6, 7],\n",
       "       [3, 6],\n",
       "       [6, 8],\n",
       "       [1, 0],\n",
       "       [7, 8],\n",
       "       [9, 6],\n",
       "       [6, 9],\n",
       "       [2, 9],\n",
       "       [8, 8],\n",
       "       [6, 7],\n",
       "       [9, 8],\n",
       "       [0, 4]])"
      ]
     },
     "execution_count": 13,
     "metadata": {},
     "output_type": "execute_result"
    }
   ],
   "source": [
    "points"
   ]
  },
  {
   "cell_type": "code",
   "execution_count": null,
   "metadata": {},
   "outputs": [],
   "source": []
  }
 ],
 "metadata": {
  "kernelspec": {
   "display_name": "Python 3",
   "language": "python",
   "name": "python3"
  },
  "language_info": {
   "codemirror_mode": {
    "name": "ipython",
    "version": 3
   },
   "file_extension": ".py",
   "mimetype": "text/x-python",
   "name": "python",
   "nbconvert_exporter": "python",
   "pygments_lexer": "ipython3",
   "version": "3.6.9"
  }
 },
 "nbformat": 4,
 "nbformat_minor": 4
}
