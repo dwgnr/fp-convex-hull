{
 "cells": [
  {
   "cell_type": "markdown",
   "metadata": {},
   "source": [
    "# Determinant"
   ]
  },
  {
   "cell_type": "code",
   "execution_count": 1,
   "metadata": {},
   "outputs": [],
   "source": [
    "minors :: [a] -> [[a]]\n",
    "minors [ ] = [ ]\n",
    "minors (x : xs) = xs : map (x :) (minors xs)"
   ]
  },
  {
   "cell_type": "code",
   "execution_count": 2,
   "metadata": {},
   "outputs": [
    {
     "data": {
      "text/plain": [
       "[\"bcd\",\"acd\",\"abd\",\"abc\"]"
      ]
     },
     "metadata": {},
     "output_type": "display_data"
    }
   ],
   "source": [
    "minors \"abcd\""
   ]
  },
  {
   "cell_type": "code",
   "execution_count": 3,
   "metadata": {},
   "outputs": [],
   "source": [
    "det :: [[Integer]] -> Integer\n",
    "det [[x ]] = x\n",
    "det xss = foldr1 (-) (zipWith (*) col1 (map det (minors cols)))\n",
    "          where col1 = map head xss\n",
    "                cols = map tail xss"
   ]
  },
  {
   "cell_type": "code",
   "execution_count": 4,
   "metadata": {},
   "outputs": [
    {
     "data": {
      "text/plain": [
       "-25"
      ]
     },
     "metadata": {},
     "output_type": "display_data"
    }
   ],
   "source": [
    "matrix = [[2,2,1],[9,2,5],[3,7,3]]\n",
    "det matrix"
   ]
  },
  {
   "cell_type": "code",
   "execution_count": 5,
   "metadata": {},
   "outputs": [
    {
     "data": {
      "text/plain": [
       "-8"
      ]
     },
     "metadata": {},
     "output_type": "display_data"
    }
   ],
   "source": [
    "matrix = [[2,2],[9,5]]\n",
    "det matrix"
   ]
  },
  {
   "cell_type": "code",
   "execution_count": null,
   "metadata": {},
   "outputs": [],
   "source": []
  },
  {
   "cell_type": "code",
   "execution_count": null,
   "metadata": {},
   "outputs": [],
   "source": []
  },
  {
   "cell_type": "code",
   "execution_count": null,
   "metadata": {},
   "outputs": [],
   "source": []
  },
  {
   "cell_type": "markdown",
   "metadata": {},
   "source": [
    "# Convex Hull"
   ]
  },
  {
   "cell_type": "code",
   "execution_count": 6,
   "metadata": {},
   "outputs": [],
   "source": [
    "import Data.List  "
   ]
  },
  {
   "cell_type": "code",
   "execution_count": 7,
   "metadata": {},
   "outputs": [],
   "source": [
    "-- Type synonym (basically just an alias)\n",
    "type Point = [Integer]\n",
    "type Facet = ([Point], Int)\n",
    "type Simplex = ([Point], Int)"
   ]
  },
  {
   "cell_type": "code",
   "execution_count": 8,
   "metadata": {},
   "outputs": [],
   "source": [
    "dimension :: Point -> Int\n",
    "dimension ps = length ps - 1\n",
    "\n",
    "orientation :: [Point] -> Int\n",
    "orientation = fromIntegral . signum . det"
   ]
  },
  {
   "cell_type": "code",
   "execution_count": 9,
   "metadata": {},
   "outputs": [],
   "source": [
    "facets :: Simplex -> [Facet]\n",
    "facets (us, b) = zip (minors us) (cycle [b, -b])\n",
    "\n",
    "minors :: [a] -> [[a]]\n",
    "minors [] = []\n",
    "minors (x : xs) = xs : map (x :) (minors xs)"
   ]
  },
  {
   "cell_type": "code",
   "execution_count": 10,
   "metadata": {},
   "outputs": [],
   "source": [
    "insideCS :: Simplex -> Point -> Bool\n",
    "insideCS smp p = and [0 <= b * orientation (p : us) | (us, b) <- facets smp]"
   ]
  },
  {
   "cell_type": "code",
   "execution_count": 11,
   "metadata": {},
   "outputs": [
    {
     "data": {
      "text/plain": [
       "1"
      ]
     },
     "metadata": {},
     "output_type": "display_data"
    }
   ],
   "source": [
    "pts = [[1,2,3], [1,2,2], [-1,1,4]]\n",
    "orientation pts"
   ]
  },
  {
   "cell_type": "code",
   "execution_count": 12,
   "metadata": {},
   "outputs": [
    {
     "data": {
      "text/plain": [
       "False"
      ]
     },
     "metadata": {},
     "output_type": "display_data"
    }
   ],
   "source": [
    "s = (pts,1)\n",
    "p = [1,1,2]\n",
    "insideCS s p"
   ]
  },
  {
   "cell_type": "markdown",
   "metadata": {},
   "source": [
    "## Convex Hull"
   ]
  },
  {
   "cell_type": "code",
   "execution_count": 13,
   "metadata": {},
   "outputs": [],
   "source": [
    "-- The value of tuples n vs is a list of all n-tuples of vs; that is, all subsequences\n",
    "-- of vs of length n. The definition of tuples is left as an exercise.\n",
    "-- tuples :: Int -> [] -> [[]]\n",
    "tuples n vs = filter (\\x -> length x == n) (subsequences vs)"
   ]
  },
  {
   "cell_type": "code",
   "execution_count": 14,
   "metadata": {},
   "outputs": [],
   "source": [
    "insideCH :: [Point] -> Point -> Bool\n",
    "insideCH vs p = or [insideCS smp p | smp <- simplexes vs]\n",
    "\n",
    "simplexes :: [Point] -> [Simplex]\n",
    "simplexes vs = [(us, b) | us <- tuples (d + 1) vs,\n",
    "                          let b = orientation us, b /= 0]\n",
    "               where d = dimension (head vs)"
   ]
  },
  {
   "cell_type": "code",
   "execution_count": 15,
   "metadata": {},
   "outputs": [],
   "source": [
    "vertices :: Simplex -> [Point]\n",
    "vertices = sort . fst"
   ]
  },
  {
   "cell_type": "code",
   "execution_count": 16,
   "metadata": {},
   "outputs": [
    {
     "data": {
      "text/plain": [
       "False"
      ]
     },
     "metadata": {},
     "output_type": "display_data"
    }
   ],
   "source": [
    "insideCH pts p"
   ]
  },
  {
   "cell_type": "markdown",
   "metadata": {},
   "source": [
    "## Find a Simplex"
   ]
  },
  {
   "cell_type": "code",
   "execution_count": 17,
   "metadata": {},
   "outputs": [],
   "source": [
    "submatrices k vs = map (++[last vs]) (tuples k (init vs))\n",
    "degenerate k = all (==0) . map det . submatrices k . transpose"
   ]
  },
  {
   "cell_type": "code",
   "execution_count": 18,
   "metadata": {},
   "outputs": [],
   "source": [
    "findSimplex :: [Point] -> Maybe Simplex\n",
    "findSimplex [] = Nothing\n",
    "findSimplex (v : vs) = search (length v - 1) 1 [v] vs\n",
    "\n",
    "search d k us vs\n",
    "  | k == d + 1 = Just (us, orientation us)\n",
    "  | null vs = Nothing\n",
    "  | degenerate k (v : us) = search d k us (tail vs)\n",
    "  | otherwise = search d (k + 1) (v : us) (tail vs)\n",
    "    where v = head vs\n"
   ]
  },
  {
   "cell_type": "code",
   "execution_count": 19,
   "metadata": {},
   "outputs": [
    {
     "data": {
      "text/plain": [
       "Just ([[-1,1,4],[1,2,2],[1,2,3]],-1)"
      ]
     },
     "metadata": {},
     "output_type": "display_data"
    }
   ],
   "source": [
    "findSimplex pts"
   ]
  },
  {
   "cell_type": "markdown",
   "metadata": {},
   "source": [
    "## Update"
   ]
  },
  {
   "cell_type": "code",
   "execution_count": 20,
   "metadata": {},
   "outputs": [],
   "source": [
    "external :: [Simplex] -> [Facet]\n",
    "external = foldr op [] . sort . concatMap facets\n",
    "\n",
    "op smp [] = []\n",
    "op smp (smp' : smps) = if vertices smp == vertices smp' then smps\n",
    "                       else smp : smp' : smps"
   ]
  },
  {
   "cell_type": "code",
   "execution_count": 21,
   "metadata": {},
   "outputs": [],
   "source": [
    "visible :: Point -> [Facet] -> [Facet]\n",
    "visible v fs = [(us, b) | (us, b) <- fs, b * orientation (v : us) < 0]"
   ]
  },
  {
   "cell_type": "code",
   "execution_count": 22,
   "metadata": {},
   "outputs": [],
   "source": [
    "newSimplex :: Point -> Facet -> Simplex\n",
    "newSimplex v (us, b) = (v : us, -b)"
   ]
  },
  {
   "cell_type": "code",
   "execution_count": 23,
   "metadata": {},
   "outputs": [],
   "source": [
    "update :: [Simplex] -> Point -> [Simplex]\n",
    "update smps v = smps ++ map (newSimplex v) (visible v (external smps))"
   ]
  },
  {
   "cell_type": "markdown",
   "metadata": {},
   "source": [
    "## Incremental Algorithm"
   ]
  },
  {
   "cell_type": "code",
   "execution_count": 24,
   "metadata": {},
   "outputs": [],
   "source": [
    "insideCH' :: [Point] -> Point -> Bool\n",
    "insideCH' vs p = or [insideCS smp p | smp <- partition vs] \n",
    "\n",
    "partition :: [Point] -> [Simplex]\n",
    "partition vs\n",
    "    = case findSimplex vs of\n",
    "        Nothing -> []\n",
    "        Just smp -> foldl update [smp] (vs \\\\ vertices smp)\n",
    "        -- Just [smp] -> foldl update [smp] (vs \\\\ vertices smp)"
   ]
  },
  {
   "cell_type": "code",
   "execution_count": 25,
   "metadata": {},
   "outputs": [
    {
     "data": {
      "text/plain": [
       "False"
      ]
     },
     "metadata": {},
     "output_type": "display_data"
    }
   ],
   "source": [
    "insideCH' pts p"
   ]
  },
  {
   "cell_type": "code",
   "execution_count": 26,
   "metadata": {},
   "outputs": [
    {
     "data": {
      "text/plain": [
       "True"
      ]
     },
     "metadata": {},
     "output_type": "display_data"
    }
   ],
   "source": [
    "insideCH' pts [1,2,3]"
   ]
  },
  {
   "cell_type": "markdown",
   "metadata": {},
   "source": [
    "## QuickCheck"
   ]
  },
  {
   "cell_type": "code",
   "execution_count": 27,
   "metadata": {},
   "outputs": [],
   "source": [
    "import Test.QuickCheck"
   ]
  },
  {
   "cell_type": "code",
   "execution_count": 28,
   "metadata": {},
   "outputs": [],
   "source": [
    "point :: Int -> Gen [Integer]\n",
    "point d = do {xs <- vector d; return (xs ++ [1])}\n",
    "\n",
    "points :: Int -> Int -> Gen [[Integer]]\n",
    "points d 0 = return []\n",
    "-- This is supposed to be n+1 but it won't compile :-(\n",
    "points d n = do\n",
    " p <- point d\n",
    " ps <- points d n\n",
    " return (p : ps) \n"
   ]
  },
  {
   "cell_type": "code",
   "execution_count": 32,
   "metadata": {},
   "outputs": [],
   "source": [
    "prop_Hull :: Int -> Int -> Property\n",
    "prop_Hull d n = forAll (points d (n+1)) $ \\vs -> \n",
    "                forAll (point d) $ \\v -> \n",
    "                insideCH vs v /= insideCH' vs v"
   ]
  },
  {
   "cell_type": "code",
   "execution_count": 30,
   "metadata": {},
   "outputs": [
    {
     "ename": "",
     "evalue": "",
     "output_type": "error",
     "traceback": [
      "<interactive>:2:17: error:\n    • Couldn't match expected type ‘Bool’ with actual type ‘Property’\n    • In the expression: forAll (points d (n + 1)) $ \\ vs -> forAll (point d) $ \\ v -> insideCH vs v == insideCH' vs v\n      In an equation for ‘prop_Hull’: prop_Hull d n = forAll (points d (n + 1)) $ \\ vs -> forAll (point d) $ \\ v -> insideCH vs v == insideCH' vs v"
     ]
    }
   ],
   "source": [
    "prop_Hull :: Int -> Int -> Bool\n",
    "prop_Hull d n = forAll (points d (n+1)) $ \\vs -> \n",
    "                forAll (point d) $ \\v -> \n",
    "                insideCH vs v == insideCH' vs v"
   ]
  },
  {
   "cell_type": "code",
   "execution_count": null,
   "metadata": {},
   "outputs": [],
   "source": []
  },
  {
   "cell_type": "code",
   "execution_count": null,
   "metadata": {},
   "outputs": [],
   "source": []
  },
  {
   "cell_type": "code",
   "execution_count": 31,
   "metadata": {},
   "outputs": [],
   "source": [
    "main = quickCheck(prop_Hull 2 3)"
   ]
  },
  {
   "cell_type": "code",
   "execution_count": null,
   "metadata": {},
   "outputs": [
    {
     "data": {
      "text/plain": [
       "Passed:"
      ]
     },
     "metadata": {},
     "output_type": "display_data"
    }
   ],
   "source": [
    "verboseCheck (prop_Hull 2 3)"
   ]
  },
  {
   "cell_type": "code",
   "execution_count": null,
   "metadata": {},
   "outputs": [],
   "source": [
    "quickCheckWith stdArgs { maxSuccess = 10 } (prop_Hull 2 3)"
   ]
  },
  {
   "cell_type": "code",
   "execution_count": null,
   "metadata": {},
   "outputs": [],
   "source": []
  },
  {
   "cell_type": "code",
   "execution_count": null,
   "metadata": {},
   "outputs": [],
   "source": []
  },
  {
   "cell_type": "code",
   "execution_count": null,
   "metadata": {},
   "outputs": [],
   "source": [
    "import Test.QuickCheck\n",
    "\n",
    "prop_commutativeAdd :: Integer -> Integer -> Bool\n",
    "prop_commutativeAdd n m = n + m == m + n"
   ]
  },
  {
   "cell_type": "code",
   "execution_count": null,
   "metadata": {},
   "outputs": [],
   "source": [
    "quickCheckWith stdArgs { maxSuccess = 500 } prop_commutativeAdd"
   ]
  },
  {
   "cell_type": "code",
   "execution_count": null,
   "metadata": {},
   "outputs": [],
   "source": [
    "quickCheckWith stdArgs { maxSuccess = 1 } prop_commutativeAdd"
   ]
  },
  {
   "cell_type": "code",
   "execution_count": null,
   "metadata": {},
   "outputs": [],
   "source": [
    "quickCheck prop_commutativeAdd"
   ]
  },
  {
   "cell_type": "code",
   "execution_count": null,
   "metadata": {},
   "outputs": [],
   "source": [
    " verboseCheck prop_commutativeAdd"
   ]
  },
  {
   "cell_type": "code",
   "execution_count": null,
   "metadata": {},
   "outputs": [],
   "source": []
  }
 ],
 "metadata": {
  "kernelspec": {
   "display_name": "Haskell",
   "language": "haskell",
   "name": "haskell"
  },
  "language_info": {
   "codemirror_mode": "ihaskell",
   "file_extension": ".hs",
   "name": "haskell",
   "pygments_lexer": "Haskell",
   "version": "8.6.5"
  }
 },
 "nbformat": 4,
 "nbformat_minor": 4
}
